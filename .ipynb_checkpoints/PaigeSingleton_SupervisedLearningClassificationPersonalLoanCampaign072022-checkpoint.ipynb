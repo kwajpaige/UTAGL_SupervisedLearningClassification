{
 "cells": [
  {
   "cell_type": "markdown",
   "metadata": {},
   "source": [
    "# Supervised Learning: Classification Project 3 - Personal Loan Campaign\n",
    "## Paige Singleton\n",
    "## June 2022"
   ]
  },
  {
   "cell_type": "markdown",
   "metadata": {},
   "source": [
    "## Section 1 Understand the DataSet - EDA\n",
    "\n",
    "### Problem Definition\n",
    "- Given customer liability (depositor data) for All Life Bank, \"predict whether a Liabiity customer will buy a personal loan or not.\" Also, determine which variables are most significant and which segment of customers should be targeted."
   ]
  },
  {
   "cell_type": "code",
   "execution_count": 1,
   "metadata": {},
   "outputs": [],
   "source": [
    "#EDA/CDA Librairies\n",
    "import pandas as pd\n",
    "import numpy as np\n",
    "from sklearn.model_selection import train_test_split\n",
    "import matplotlib.pyplot as plt\n",
    "import seaborn as sns\n",
    "\n",
    "#Logistic Regression Libraries\n",
    "from sklearn.linear_model import LogisticRegression\n",
    "from sklearn.metrics import (\n",
    "    f1_score,\n",
    "    accuracy_score,\n",
    "    recall_score,\n",
    "    precision_score,\n",
    "    confusion_matrix,\n",
    "    roc_auc_score,\n",
    "    plot_confusion_matrix,\n",
    "    precision_recall_curve,\n",
    "    roc_curve,\n",
    ")\n",
    "\n",
    "# Decision Tree Libraries\n",
    "from sklearn.tree import DecisionTreeClassifier\n",
    "from sklearn import tree\n",
    "from sklearn.model_selection import GridSearchCV\n",
    "from sklearn.metrics import (\n",
    "    f1_score,\n",
    "    accuracy_score,\n",
    "    recall_score,\n",
    "    precision_score,\n",
    "    confusion_matrix,\n",
    "    plot_confusion_matrix,\n",
    "    make_scorer,\n",
    ")\n",
    "pd.set_option(\"display.max_columns\", None)\n",
    "# Sets the limit for the number of displayed rows\n",
    "pd.set_option(\"display.max_rows\", 200)\n",
    "\n",
    "\n"
   ]
  },
  {
   "cell_type": "code",
   "execution_count": 2,
   "metadata": {},
   "outputs": [],
   "source": [
    "#Read csv file and make a copy for EDA; create 4 copies of data for eda and cleaning for 2 types of models\n",
    "data = pd.read_csv(\"Loan_Modelling.csv\")\n",
    "lr_eda=data.copy()\n",
    "lr_clean=data.copy()\n",
    "dt_eda=data.copy()\n",
    "dt_clean=data.copy()"
   ]
  },
  {
   "cell_type": "code",
   "execution_count": 3,
   "metadata": {},
   "outputs": [
    {
     "data": {
      "text/html": [
       "<div>\n",
       "<style scoped>\n",
       "    .dataframe tbody tr th:only-of-type {\n",
       "        vertical-align: middle;\n",
       "    }\n",
       "\n",
       "    .dataframe tbody tr th {\n",
       "        vertical-align: top;\n",
       "    }\n",
       "\n",
       "    .dataframe thead th {\n",
       "        text-align: right;\n",
       "    }\n",
       "</style>\n",
       "<table border=\"1\" class=\"dataframe\">\n",
       "  <thead>\n",
       "    <tr style=\"text-align: right;\">\n",
       "      <th></th>\n",
       "      <th>ID</th>\n",
       "      <th>Age</th>\n",
       "      <th>Experience</th>\n",
       "      <th>Income</th>\n",
       "      <th>ZIPCode</th>\n",
       "      <th>Family</th>\n",
       "      <th>CCAvg</th>\n",
       "      <th>Education</th>\n",
       "      <th>Mortgage</th>\n",
       "      <th>Personal_Loan</th>\n",
       "      <th>Securities_Account</th>\n",
       "      <th>CD_Account</th>\n",
       "      <th>Online</th>\n",
       "      <th>CreditCard</th>\n",
       "    </tr>\n",
       "  </thead>\n",
       "  <tbody>\n",
       "    <tr>\n",
       "      <th>0</th>\n",
       "      <td>1</td>\n",
       "      <td>25</td>\n",
       "      <td>1</td>\n",
       "      <td>49</td>\n",
       "      <td>91107</td>\n",
       "      <td>4</td>\n",
       "      <td>1.6</td>\n",
       "      <td>1</td>\n",
       "      <td>0</td>\n",
       "      <td>0</td>\n",
       "      <td>1</td>\n",
       "      <td>0</td>\n",
       "      <td>0</td>\n",
       "      <td>0</td>\n",
       "    </tr>\n",
       "    <tr>\n",
       "      <th>1</th>\n",
       "      <td>2</td>\n",
       "      <td>45</td>\n",
       "      <td>19</td>\n",
       "      <td>34</td>\n",
       "      <td>90089</td>\n",
       "      <td>3</td>\n",
       "      <td>1.5</td>\n",
       "      <td>1</td>\n",
       "      <td>0</td>\n",
       "      <td>0</td>\n",
       "      <td>1</td>\n",
       "      <td>0</td>\n",
       "      <td>0</td>\n",
       "      <td>0</td>\n",
       "    </tr>\n",
       "    <tr>\n",
       "      <th>2</th>\n",
       "      <td>3</td>\n",
       "      <td>39</td>\n",
       "      <td>15</td>\n",
       "      <td>11</td>\n",
       "      <td>94720</td>\n",
       "      <td>1</td>\n",
       "      <td>1.0</td>\n",
       "      <td>1</td>\n",
       "      <td>0</td>\n",
       "      <td>0</td>\n",
       "      <td>0</td>\n",
       "      <td>0</td>\n",
       "      <td>0</td>\n",
       "      <td>0</td>\n",
       "    </tr>\n",
       "    <tr>\n",
       "      <th>3</th>\n",
       "      <td>4</td>\n",
       "      <td>35</td>\n",
       "      <td>9</td>\n",
       "      <td>100</td>\n",
       "      <td>94112</td>\n",
       "      <td>1</td>\n",
       "      <td>2.7</td>\n",
       "      <td>2</td>\n",
       "      <td>0</td>\n",
       "      <td>0</td>\n",
       "      <td>0</td>\n",
       "      <td>0</td>\n",
       "      <td>0</td>\n",
       "      <td>0</td>\n",
       "    </tr>\n",
       "    <tr>\n",
       "      <th>4</th>\n",
       "      <td>5</td>\n",
       "      <td>35</td>\n",
       "      <td>8</td>\n",
       "      <td>45</td>\n",
       "      <td>91330</td>\n",
       "      <td>4</td>\n",
       "      <td>1.0</td>\n",
       "      <td>2</td>\n",
       "      <td>0</td>\n",
       "      <td>0</td>\n",
       "      <td>0</td>\n",
       "      <td>0</td>\n",
       "      <td>0</td>\n",
       "      <td>1</td>\n",
       "    </tr>\n",
       "  </tbody>\n",
       "</table>\n",
       "</div>"
      ],
      "text/plain": [
       "   ID  Age  Experience  Income  ZIPCode  Family  CCAvg  Education  Mortgage  \\\n",
       "0   1   25           1      49    91107       4    1.6          1         0   \n",
       "1   2   45          19      34    90089       3    1.5          1         0   \n",
       "2   3   39          15      11    94720       1    1.0          1         0   \n",
       "3   4   35           9     100    94112       1    2.7          2         0   \n",
       "4   5   35           8      45    91330       4    1.0          2         0   \n",
       "\n",
       "   Personal_Loan  Securities_Account  CD_Account  Online  CreditCard  \n",
       "0              0                   1           0       0           0  \n",
       "1              0                   1           0       0           0  \n",
       "2              0                   0           0       0           0  \n",
       "3              0                   0           0       0           0  \n",
       "4              0                   0           0       0           1  "
      ]
     },
     "execution_count": 3,
     "metadata": {},
     "output_type": "execute_result"
    }
   ],
   "source": [
    "data.head()"
   ]
  },
  {
   "cell_type": "code",
   "execution_count": 4,
   "metadata": {},
   "outputs": [
    {
     "data": {
      "text/plain": [
       "(5000, 14)"
      ]
     },
     "execution_count": 4,
     "metadata": {},
     "output_type": "execute_result"
    }
   ],
   "source": [
    "data.shape"
   ]
  },
  {
   "cell_type": "code",
   "execution_count": 5,
   "metadata": {},
   "outputs": [
    {
     "name": "stdout",
     "output_type": "stream",
     "text": [
      "<class 'pandas.core.frame.DataFrame'>\n",
      "RangeIndex: 5000 entries, 0 to 4999\n",
      "Data columns (total 14 columns):\n",
      " #   Column              Non-Null Count  Dtype  \n",
      "---  ------              --------------  -----  \n",
      " 0   ID                  5000 non-null   int64  \n",
      " 1   Age                 5000 non-null   int64  \n",
      " 2   Experience          5000 non-null   int64  \n",
      " 3   Income              5000 non-null   int64  \n",
      " 4   ZIPCode             5000 non-null   int64  \n",
      " 5   Family              5000 non-null   int64  \n",
      " 6   CCAvg               5000 non-null   float64\n",
      " 7   Education           5000 non-null   int64  \n",
      " 8   Mortgage            5000 non-null   int64  \n",
      " 9   Personal_Loan       5000 non-null   int64  \n",
      " 10  Securities_Account  5000 non-null   int64  \n",
      " 11  CD_Account          5000 non-null   int64  \n",
      " 12  Online              5000 non-null   int64  \n",
      " 13  CreditCard          5000 non-null   int64  \n",
      "dtypes: float64(1), int64(13)\n",
      "memory usage: 547.0 KB\n"
     ]
    }
   ],
   "source": [
    "data.info()"
   ]
  },
  {
   "cell_type": "code",
   "execution_count": 6,
   "metadata": {},
   "outputs": [
    {
     "data": {
      "text/plain": [
       "ID                    0\n",
       "Age                   0\n",
       "Experience            0\n",
       "Income                0\n",
       "ZIPCode               0\n",
       "Family                0\n",
       "CCAvg                 0\n",
       "Education             0\n",
       "Mortgage              0\n",
       "Personal_Loan         0\n",
       "Securities_Account    0\n",
       "CD_Account            0\n",
       "Online                0\n",
       "CreditCard            0\n",
       "dtype: int64"
      ]
     },
     "execution_count": 6,
     "metadata": {},
     "output_type": "execute_result"
    }
   ],
   "source": [
    "data.isnull().sum()"
   ]
  },
  {
   "cell_type": "code",
   "execution_count": 7,
   "metadata": {},
   "outputs": [
    {
     "data": {
      "text/html": [
       "<div>\n",
       "<style scoped>\n",
       "    .dataframe tbody tr th:only-of-type {\n",
       "        vertical-align: middle;\n",
       "    }\n",
       "\n",
       "    .dataframe tbody tr th {\n",
       "        vertical-align: top;\n",
       "    }\n",
       "\n",
       "    .dataframe thead th {\n",
       "        text-align: right;\n",
       "    }\n",
       "</style>\n",
       "<table border=\"1\" class=\"dataframe\">\n",
       "  <thead>\n",
       "    <tr style=\"text-align: right;\">\n",
       "      <th></th>\n",
       "      <th>count</th>\n",
       "      <th>mean</th>\n",
       "      <th>std</th>\n",
       "      <th>min</th>\n",
       "      <th>25%</th>\n",
       "      <th>50%</th>\n",
       "      <th>75%</th>\n",
       "      <th>max</th>\n",
       "    </tr>\n",
       "  </thead>\n",
       "  <tbody>\n",
       "    <tr>\n",
       "      <th>ID</th>\n",
       "      <td>5000.0</td>\n",
       "      <td>2500.500000</td>\n",
       "      <td>1443.520003</td>\n",
       "      <td>1.0</td>\n",
       "      <td>1250.75</td>\n",
       "      <td>2500.5</td>\n",
       "      <td>3750.25</td>\n",
       "      <td>5000.0</td>\n",
       "    </tr>\n",
       "    <tr>\n",
       "      <th>Age</th>\n",
       "      <td>5000.0</td>\n",
       "      <td>45.338400</td>\n",
       "      <td>11.463166</td>\n",
       "      <td>23.0</td>\n",
       "      <td>35.00</td>\n",
       "      <td>45.0</td>\n",
       "      <td>55.00</td>\n",
       "      <td>67.0</td>\n",
       "    </tr>\n",
       "    <tr>\n",
       "      <th>Experience</th>\n",
       "      <td>5000.0</td>\n",
       "      <td>20.104600</td>\n",
       "      <td>11.467954</td>\n",
       "      <td>-3.0</td>\n",
       "      <td>10.00</td>\n",
       "      <td>20.0</td>\n",
       "      <td>30.00</td>\n",
       "      <td>43.0</td>\n",
       "    </tr>\n",
       "    <tr>\n",
       "      <th>Income</th>\n",
       "      <td>5000.0</td>\n",
       "      <td>73.774200</td>\n",
       "      <td>46.033729</td>\n",
       "      <td>8.0</td>\n",
       "      <td>39.00</td>\n",
       "      <td>64.0</td>\n",
       "      <td>98.00</td>\n",
       "      <td>224.0</td>\n",
       "    </tr>\n",
       "    <tr>\n",
       "      <th>ZIPCode</th>\n",
       "      <td>5000.0</td>\n",
       "      <td>93169.257000</td>\n",
       "      <td>1759.455086</td>\n",
       "      <td>90005.0</td>\n",
       "      <td>91911.00</td>\n",
       "      <td>93437.0</td>\n",
       "      <td>94608.00</td>\n",
       "      <td>96651.0</td>\n",
       "    </tr>\n",
       "    <tr>\n",
       "      <th>Family</th>\n",
       "      <td>5000.0</td>\n",
       "      <td>2.396400</td>\n",
       "      <td>1.147663</td>\n",
       "      <td>1.0</td>\n",
       "      <td>1.00</td>\n",
       "      <td>2.0</td>\n",
       "      <td>3.00</td>\n",
       "      <td>4.0</td>\n",
       "    </tr>\n",
       "    <tr>\n",
       "      <th>CCAvg</th>\n",
       "      <td>5000.0</td>\n",
       "      <td>1.937938</td>\n",
       "      <td>1.747659</td>\n",
       "      <td>0.0</td>\n",
       "      <td>0.70</td>\n",
       "      <td>1.5</td>\n",
       "      <td>2.50</td>\n",
       "      <td>10.0</td>\n",
       "    </tr>\n",
       "    <tr>\n",
       "      <th>Education</th>\n",
       "      <td>5000.0</td>\n",
       "      <td>1.881000</td>\n",
       "      <td>0.839869</td>\n",
       "      <td>1.0</td>\n",
       "      <td>1.00</td>\n",
       "      <td>2.0</td>\n",
       "      <td>3.00</td>\n",
       "      <td>3.0</td>\n",
       "    </tr>\n",
       "    <tr>\n",
       "      <th>Mortgage</th>\n",
       "      <td>5000.0</td>\n",
       "      <td>56.498800</td>\n",
       "      <td>101.713802</td>\n",
       "      <td>0.0</td>\n",
       "      <td>0.00</td>\n",
       "      <td>0.0</td>\n",
       "      <td>101.00</td>\n",
       "      <td>635.0</td>\n",
       "    </tr>\n",
       "    <tr>\n",
       "      <th>Personal_Loan</th>\n",
       "      <td>5000.0</td>\n",
       "      <td>0.096000</td>\n",
       "      <td>0.294621</td>\n",
       "      <td>0.0</td>\n",
       "      <td>0.00</td>\n",
       "      <td>0.0</td>\n",
       "      <td>0.00</td>\n",
       "      <td>1.0</td>\n",
       "    </tr>\n",
       "    <tr>\n",
       "      <th>Securities_Account</th>\n",
       "      <td>5000.0</td>\n",
       "      <td>0.104400</td>\n",
       "      <td>0.305809</td>\n",
       "      <td>0.0</td>\n",
       "      <td>0.00</td>\n",
       "      <td>0.0</td>\n",
       "      <td>0.00</td>\n",
       "      <td>1.0</td>\n",
       "    </tr>\n",
       "    <tr>\n",
       "      <th>CD_Account</th>\n",
       "      <td>5000.0</td>\n",
       "      <td>0.060400</td>\n",
       "      <td>0.238250</td>\n",
       "      <td>0.0</td>\n",
       "      <td>0.00</td>\n",
       "      <td>0.0</td>\n",
       "      <td>0.00</td>\n",
       "      <td>1.0</td>\n",
       "    </tr>\n",
       "    <tr>\n",
       "      <th>Online</th>\n",
       "      <td>5000.0</td>\n",
       "      <td>0.596800</td>\n",
       "      <td>0.490589</td>\n",
       "      <td>0.0</td>\n",
       "      <td>0.00</td>\n",
       "      <td>1.0</td>\n",
       "      <td>1.00</td>\n",
       "      <td>1.0</td>\n",
       "    </tr>\n",
       "    <tr>\n",
       "      <th>CreditCard</th>\n",
       "      <td>5000.0</td>\n",
       "      <td>0.294000</td>\n",
       "      <td>0.455637</td>\n",
       "      <td>0.0</td>\n",
       "      <td>0.00</td>\n",
       "      <td>0.0</td>\n",
       "      <td>1.00</td>\n",
       "      <td>1.0</td>\n",
       "    </tr>\n",
       "  </tbody>\n",
       "</table>\n",
       "</div>"
      ],
      "text/plain": [
       "                     count          mean          std      min       25%  \\\n",
       "ID                  5000.0   2500.500000  1443.520003      1.0   1250.75   \n",
       "Age                 5000.0     45.338400    11.463166     23.0     35.00   \n",
       "Experience          5000.0     20.104600    11.467954     -3.0     10.00   \n",
       "Income              5000.0     73.774200    46.033729      8.0     39.00   \n",
       "ZIPCode             5000.0  93169.257000  1759.455086  90005.0  91911.00   \n",
       "Family              5000.0      2.396400     1.147663      1.0      1.00   \n",
       "CCAvg               5000.0      1.937938     1.747659      0.0      0.70   \n",
       "Education           5000.0      1.881000     0.839869      1.0      1.00   \n",
       "Mortgage            5000.0     56.498800   101.713802      0.0      0.00   \n",
       "Personal_Loan       5000.0      0.096000     0.294621      0.0      0.00   \n",
       "Securities_Account  5000.0      0.104400     0.305809      0.0      0.00   \n",
       "CD_Account          5000.0      0.060400     0.238250      0.0      0.00   \n",
       "Online              5000.0      0.596800     0.490589      0.0      0.00   \n",
       "CreditCard          5000.0      0.294000     0.455637      0.0      0.00   \n",
       "\n",
       "                        50%       75%      max  \n",
       "ID                   2500.5   3750.25   5000.0  \n",
       "Age                    45.0     55.00     67.0  \n",
       "Experience             20.0     30.00     43.0  \n",
       "Income                 64.0     98.00    224.0  \n",
       "ZIPCode             93437.0  94608.00  96651.0  \n",
       "Family                  2.0      3.00      4.0  \n",
       "CCAvg                   1.5      2.50     10.0  \n",
       "Education               2.0      3.00      3.0  \n",
       "Mortgage                0.0    101.00    635.0  \n",
       "Personal_Loan           0.0      0.00      1.0  \n",
       "Securities_Account      0.0      0.00      1.0  \n",
       "CD_Account              0.0      0.00      1.0  \n",
       "Online                  1.0      1.00      1.0  \n",
       "CreditCard              0.0      1.00      1.0  "
      ]
     },
     "execution_count": 7,
     "metadata": {},
     "output_type": "execute_result"
    }
   ],
   "source": [
    "data.describe().T"
   ]
  },
  {
   "cell_type": "code",
   "execution_count": 84,
   "metadata": {},
   "outputs": [
    {
     "data": {
      "text/plain": [
       "ID                    0\n",
       "Age                   0\n",
       "Experience            0\n",
       "Income                0\n",
       "ZIPCode               0\n",
       "Family                0\n",
       "CCAvg                 0\n",
       "Education             0\n",
       "Mortgage              0\n",
       "Personal_Loan         0\n",
       "Securities_Account    0\n",
       "CD_Account            0\n",
       "Online                0\n",
       "CreditCard            0\n",
       "state                 0\n",
       "county                0\n",
       "dtype: int64"
      ]
     },
     "execution_count": 84,
     "metadata": {},
     "output_type": "execute_result"
    }
   ],
   "source": [
    "lr_eda[lr_eda.duplicated()].count()"
   ]
  },
  {
   "cell_type": "code",
   "execution_count": 8,
   "metadata": {},
   "outputs": [
    {
     "data": {
      "text/html": [
       "<div>\n",
       "<style scoped>\n",
       "    .dataframe tbody tr th:only-of-type {\n",
       "        vertical-align: middle;\n",
       "    }\n",
       "\n",
       "    .dataframe tbody tr th {\n",
       "        vertical-align: top;\n",
       "    }\n",
       "\n",
       "    .dataframe thead th {\n",
       "        text-align: right;\n",
       "    }\n",
       "</style>\n",
       "<table border=\"1\" class=\"dataframe\">\n",
       "  <thead>\n",
       "    <tr style=\"text-align: right;\">\n",
       "      <th></th>\n",
       "      <th>ID</th>\n",
       "      <th>Age</th>\n",
       "      <th>Experience</th>\n",
       "      <th>Income</th>\n",
       "      <th>ZIPCode</th>\n",
       "      <th>Family</th>\n",
       "      <th>CCAvg</th>\n",
       "      <th>Education</th>\n",
       "      <th>Mortgage</th>\n",
       "      <th>Personal_Loan</th>\n",
       "      <th>Securities_Account</th>\n",
       "      <th>CD_Account</th>\n",
       "      <th>Online</th>\n",
       "      <th>CreditCard</th>\n",
       "    </tr>\n",
       "  </thead>\n",
       "  <tbody>\n",
       "    <tr>\n",
       "      <th>2764</th>\n",
       "      <td>2765</td>\n",
       "      <td>31</td>\n",
       "      <td>5</td>\n",
       "      <td>84</td>\n",
       "      <td>91320</td>\n",
       "      <td>1</td>\n",
       "      <td>2.9</td>\n",
       "      <td>3</td>\n",
       "      <td>105</td>\n",
       "      <td>0</td>\n",
       "      <td>0</td>\n",
       "      <td>0</td>\n",
       "      <td>0</td>\n",
       "      <td>1</td>\n",
       "    </tr>\n",
       "    <tr>\n",
       "      <th>4767</th>\n",
       "      <td>4768</td>\n",
       "      <td>35</td>\n",
       "      <td>9</td>\n",
       "      <td>45</td>\n",
       "      <td>90639</td>\n",
       "      <td>3</td>\n",
       "      <td>0.9</td>\n",
       "      <td>1</td>\n",
       "      <td>101</td>\n",
       "      <td>0</td>\n",
       "      <td>1</td>\n",
       "      <td>0</td>\n",
       "      <td>0</td>\n",
       "      <td>0</td>\n",
       "    </tr>\n",
       "    <tr>\n",
       "      <th>3814</th>\n",
       "      <td>3815</td>\n",
       "      <td>34</td>\n",
       "      <td>9</td>\n",
       "      <td>35</td>\n",
       "      <td>94304</td>\n",
       "      <td>3</td>\n",
       "      <td>1.3</td>\n",
       "      <td>1</td>\n",
       "      <td>0</td>\n",
       "      <td>0</td>\n",
       "      <td>0</td>\n",
       "      <td>0</td>\n",
       "      <td>0</td>\n",
       "      <td>0</td>\n",
       "    </tr>\n",
       "    <tr>\n",
       "      <th>3499</th>\n",
       "      <td>3500</td>\n",
       "      <td>49</td>\n",
       "      <td>23</td>\n",
       "      <td>114</td>\n",
       "      <td>94550</td>\n",
       "      <td>1</td>\n",
       "      <td>0.3</td>\n",
       "      <td>1</td>\n",
       "      <td>286</td>\n",
       "      <td>0</td>\n",
       "      <td>0</td>\n",
       "      <td>0</td>\n",
       "      <td>1</td>\n",
       "      <td>0</td>\n",
       "    </tr>\n",
       "    <tr>\n",
       "      <th>2735</th>\n",
       "      <td>2736</td>\n",
       "      <td>36</td>\n",
       "      <td>12</td>\n",
       "      <td>70</td>\n",
       "      <td>92131</td>\n",
       "      <td>3</td>\n",
       "      <td>2.6</td>\n",
       "      <td>2</td>\n",
       "      <td>165</td>\n",
       "      <td>0</td>\n",
       "      <td>0</td>\n",
       "      <td>0</td>\n",
       "      <td>1</td>\n",
       "      <td>0</td>\n",
       "    </tr>\n",
       "    <tr>\n",
       "      <th>3922</th>\n",
       "      <td>3923</td>\n",
       "      <td>31</td>\n",
       "      <td>4</td>\n",
       "      <td>20</td>\n",
       "      <td>95616</td>\n",
       "      <td>4</td>\n",
       "      <td>1.5</td>\n",
       "      <td>2</td>\n",
       "      <td>0</td>\n",
       "      <td>0</td>\n",
       "      <td>0</td>\n",
       "      <td>0</td>\n",
       "      <td>1</td>\n",
       "      <td>0</td>\n",
       "    </tr>\n",
       "    <tr>\n",
       "      <th>2701</th>\n",
       "      <td>2702</td>\n",
       "      <td>50</td>\n",
       "      <td>26</td>\n",
       "      <td>55</td>\n",
       "      <td>94305</td>\n",
       "      <td>1</td>\n",
       "      <td>1.6</td>\n",
       "      <td>2</td>\n",
       "      <td>0</td>\n",
       "      <td>0</td>\n",
       "      <td>0</td>\n",
       "      <td>0</td>\n",
       "      <td>1</td>\n",
       "      <td>0</td>\n",
       "    </tr>\n",
       "    <tr>\n",
       "      <th>1179</th>\n",
       "      <td>1180</td>\n",
       "      <td>36</td>\n",
       "      <td>11</td>\n",
       "      <td>98</td>\n",
       "      <td>90291</td>\n",
       "      <td>3</td>\n",
       "      <td>1.2</td>\n",
       "      <td>3</td>\n",
       "      <td>0</td>\n",
       "      <td>0</td>\n",
       "      <td>1</td>\n",
       "      <td>0</td>\n",
       "      <td>0</td>\n",
       "      <td>1</td>\n",
       "    </tr>\n",
       "    <tr>\n",
       "      <th>932</th>\n",
       "      <td>933</td>\n",
       "      <td>51</td>\n",
       "      <td>27</td>\n",
       "      <td>112</td>\n",
       "      <td>94720</td>\n",
       "      <td>3</td>\n",
       "      <td>1.8</td>\n",
       "      <td>2</td>\n",
       "      <td>0</td>\n",
       "      <td>0</td>\n",
       "      <td>1</td>\n",
       "      <td>1</td>\n",
       "      <td>1</td>\n",
       "      <td>1</td>\n",
       "    </tr>\n",
       "    <tr>\n",
       "      <th>792</th>\n",
       "      <td>793</td>\n",
       "      <td>41</td>\n",
       "      <td>16</td>\n",
       "      <td>98</td>\n",
       "      <td>93117</td>\n",
       "      <td>1</td>\n",
       "      <td>4.0</td>\n",
       "      <td>3</td>\n",
       "      <td>0</td>\n",
       "      <td>0</td>\n",
       "      <td>0</td>\n",
       "      <td>0</td>\n",
       "      <td>0</td>\n",
       "      <td>1</td>\n",
       "    </tr>\n",
       "  </tbody>\n",
       "</table>\n",
       "</div>"
      ],
      "text/plain": [
       "        ID  Age  Experience  Income  ZIPCode  Family  CCAvg  Education  \\\n",
       "2764  2765   31           5      84    91320       1    2.9          3   \n",
       "4767  4768   35           9      45    90639       3    0.9          1   \n",
       "3814  3815   34           9      35    94304       3    1.3          1   \n",
       "3499  3500   49          23     114    94550       1    0.3          1   \n",
       "2735  2736   36          12      70    92131       3    2.6          2   \n",
       "3922  3923   31           4      20    95616       4    1.5          2   \n",
       "2701  2702   50          26      55    94305       1    1.6          2   \n",
       "1179  1180   36          11      98    90291       3    1.2          3   \n",
       "932    933   51          27     112    94720       3    1.8          2   \n",
       "792    793   41          16      98    93117       1    4.0          3   \n",
       "\n",
       "      Mortgage  Personal_Loan  Securities_Account  CD_Account  Online  \\\n",
       "2764       105              0                   0           0       0   \n",
       "4767       101              0                   1           0       0   \n",
       "3814         0              0                   0           0       0   \n",
       "3499       286              0                   0           0       1   \n",
       "2735       165              0                   0           0       1   \n",
       "3922         0              0                   0           0       1   \n",
       "2701         0              0                   0           0       1   \n",
       "1179         0              0                   1           0       0   \n",
       "932          0              0                   1           1       1   \n",
       "792          0              0                   0           0       0   \n",
       "\n",
       "      CreditCard  \n",
       "2764           1  \n",
       "4767           0  \n",
       "3814           0  \n",
       "3499           0  \n",
       "2735           0  \n",
       "3922           0  \n",
       "2701           0  \n",
       "1179           1  \n",
       "932            1  \n",
       "792            1  "
      ]
     },
     "execution_count": 8,
     "metadata": {},
     "output_type": "execute_result"
    }
   ],
   "source": [
    "# Display 10 random rows\n",
    "\n",
    "np.random.seed(1)\n",
    "lr_eda.sample(n=10)"
   ]
  },
  {
   "cell_type": "code",
   "execution_count": 9,
   "metadata": {},
   "outputs": [
    {
     "data": {
      "text/plain": [
       "ID                    5000\n",
       "Age                     45\n",
       "Experience              47\n",
       "Income                 162\n",
       "ZIPCode                467\n",
       "Family                   4\n",
       "CCAvg                  108\n",
       "Education                3\n",
       "Mortgage               347\n",
       "Personal_Loan            2\n",
       "Securities_Account       2\n",
       "CD_Account               2\n",
       "Online                   2\n",
       "CreditCard               2\n",
       "dtype: int64"
      ]
     },
     "execution_count": 9,
     "metadata": {},
     "output_type": "execute_result"
    }
   ],
   "source": [
    "# Understand the number of unique values in each column\n",
    "lr_eda.nunique()"
   ]
  },
  {
   "cell_type": "markdown",
   "metadata": {},
   "source": [
    "## EDA Initial Observations\n",
    "### Dataset\n",
    "- 5000 rows and 14 columns\n",
    "- all columns are dtype numerical\n",
    "- no missing values\n",
    "- unique value count indicates that several variables might be better typed as categorical although for regression types should be numerical therefore this step may ony be necessary for EDA\n",
    "\n",
    "### Variables\n",
    "- ID: Customer ID: likely a primary key (sequential) which matches the row index of the dataframe; \n",
    "    - variable will NOT be informational and should not be used in the model.\n",
    "- Age: Customer's age in completed years; Age ranges from 23 5o 67 with mean and median  of approx 45; \n",
    "    - value is an integer; explore using histogram and boxplot for variance and outliers\n",
    "- Experience: Number of years of professional experience;  Experience ranges from -3 to 43 with a median of 20 and mean of ~20\n",
    "    - value is an integer; explore using histogram and boxplot for variance and outliers\n",
    "- Income: Annual Income of the customer (in thousands of dollars); Income ranges from 8000 to 224000 with a median of 64000 and a mean of ~74000;\n",
    "    - Income is skewed right\n",
    "    - value is an integer; explore using histogram and boxplot for variance and outliers\n",
    "    - consider scaling data after test train split\n",
    "- Zip Code: Home address Zip Code\n",
    "    - value is currently an integer data type; consider other dtypes such as categorical for this variable\n",
    "    - Possible feature engineering: combine zip codes based on location (State/county)\n",
    "- Family: Family size of the customer; family is an integer ranging from 1 to 4 with median of 2 and mean of ~2.4;\n",
    "    - consider changing this variable to categorical for EDA\n",
    "- CCAvg: Average spending on credit cards per month (in thousands of dollars); CC Average ranges from 0 to 10000 with a median of 1500 and a mean of ~1938 dollars\n",
    "    - CCAvg is skewed right\n",
    "    - value is an float; explore using histogram and boxplot for variance and outliers\n",
    "    - consider scaling data after test train split\n",
    "- Education: Education level 1:Undergrad; 2:Graduate, 3:Advanced/Professional\n",
    "    - consider changing this variable to categorical for EDA\n",
    "- Mortgage: Value of house mortgage, if any in thousands of dollars; Mortgage ranges from 0 to 635000 with a median of 0 an mean of ~56499\n",
    "    - Mortgage is heavily skewed right\n",
    "    - value is an integer; explore using histogram and boxplot for variance and outliers;\n",
    "    - consider scaling data after test train split\n",
    "- Personal_Loan: Did the customer accept a personal loan in the last campaign\n",
    "    - consider changing the variable to categorical for EDA\n",
    "- Securities_Account: Does the customer have a securities account with the bank\n",
    "    - consider changing this variable to categorical for EDA\n",
    "- CD_Account: Does the customer have a certificate of deposit account with the bank\n",
    "    - consider changing this variable to categorical for EDA\n",
    "- Online: Do customers use internet banking facilities\n",
    "    - consider changing this variable to categorical for EDA\n",
    "- CreditCard: Does the customer usee a credit card issued by any other Bank (excluding All Life Bank)?\n",
    "    - consider changing this variable to categorical for EDA\n"
   ]
  },
  {
   "cell_type": "code",
   "execution_count": 10,
   "metadata": {},
   "outputs": [],
   "source": [
    "### Univariate Analysis"
   ]
  },
  {
   "cell_type": "code",
   "execution_count": null,
   "metadata": {},
   "outputs": [],
   "source": []
  },
  {
   "cell_type": "code",
   "execution_count": 11,
   "metadata": {},
   "outputs": [
    {
     "data": {
      "image/png": "[encoded data removed]",
      "text/plain": [
       "<Figure size 864x576 with 5 Axes>"
      ]
     },
     "metadata": {
      "needs_background": "light"
     },
     "output_type": "display_data"
    }
   ],
   "source": [
    "\n",
    "# Create boxplots for numerical columns with outliers displayed \n",
    "num_cols = ['Age','Experience','Income','CCAvg','Mortgage']\n",
    "\n",
    "plt.figure(figsize = (12,8))\n",
    "\n",
    "for i, variable in enumerate(num_cols):\n",
    "    plt.subplot(2,3,i+1)\n",
    "    plt.boxplot(lr_eda[variable],whis=1.5)\n",
    "    plt.tight_layout\n",
    "    plt.title(variable)\n",
    "    \n",
    "plt.show()"
   ]
  },
  {
   "cell_type": "code",
   "execution_count": 12,
   "metadata": {},
   "outputs": [
    {
     "data": {
      "image/png": "[encoded data removed]",
      "text/plain": [
       "<Figure size 864x576 with 5 Axes>"
      ]
     },
     "metadata": {
      "needs_background": "light"
     },
     "output_type": "display_data"
    }
   ],
   "source": [
    "#Create histplots for numerical variables\n",
    "\n",
    "plt.figure(figsize = (12,8))\n",
    "\n",
    "for i, variable in enumerate(num_cols):\n",
    "    plt.subplot(2,3,i+1)\n",
    "    plt.hist(lr_eda[variable])\n",
    "    plt.tight_layout\n",
    "    plt.title(variable)\n",
    "    \n",
    "plt.show()"
   ]
  },
  {
   "cell_type": "markdown",
   "metadata": {},
   "source": [
    "### Observations on Numerical variables\n",
    "- Data skew is as expected\n",
    "    - After test/train split, use MinMax scaling on Income and log scaling on CCAvg and Mortgage"
   ]
  },
  {
   "cell_type": "code",
   "execution_count": 13,
   "metadata": {},
   "outputs": [
    {
     "name": "stdout",
     "output_type": "stream",
     "text": [
      "Family\n",
      "1    1472\n",
      "2    1296\n",
      "4    1222\n",
      "3    1010\n",
      "Name: Family, dtype: int64\n",
      "_________________________________\n",
      "Education\n",
      "1    2096\n",
      "3    1501\n",
      "2    1403\n",
      "Name: Education, dtype: int64\n",
      "_________________________________\n",
      "Personal_Loan\n",
      "0    4520\n",
      "1     480\n",
      "Name: Personal_Loan, dtype: int64\n",
      "_________________________________\n",
      "Securities_Account\n",
      "0    4478\n",
      "1     522\n",
      "Name: Securities_Account, dtype: int64\n",
      "_________________________________\n",
      "CD_Account\n",
      "0    4698\n",
      "1     302\n",
      "Name: CD_Account, dtype: int64\n",
      "_________________________________\n",
      "Online\n",
      "1    2984\n",
      "0    2016\n",
      "Name: Online, dtype: int64\n",
      "_________________________________\n",
      "CreditCard\n",
      "0    3530\n",
      "1    1470\n",
      "Name: CreditCard, dtype: int64\n",
      "_________________________________\n"
     ]
    }
   ],
   "source": [
    "#Count the values in the categorical columns for eda\n",
    "\n",
    "cat_cols = ['Family','Education','Personal_Loan','Securities_Account','CD_Account','Online','CreditCard']\n",
    "for col in cat_cols:\n",
    "    lr_eda[col] = lr_eda[col].astype('category')\n",
    "    print(col)\n",
    "    print(lr_eda[col].value_counts())\n",
    "    print(\"_________________________________\")"
   ]
  },
  {
   "cell_type": "code",
   "execution_count": 14,
   "metadata": {},
   "outputs": [],
   "source": [
    "# function to create labeled barplots (code from Income Group classification Case Study)\n",
    "#code taken from \n",
    "\n",
    "def labeled_barplot(data, feature, perc=False, n=None):\n",
    "    \"\"\"\n",
    "    Barplot with percentage at the top\n",
    "\n",
    "    data: dataframe\n",
    "    feature: dataframe column\n",
    "    perc: whether to display percentages instead of count (default is False)\n",
    "    n: displays the top n category levels (default is None, i.e., display all levels)\n",
    "    \"\"\"\n",
    "\n",
    "    total = len(data[feature])  # length of the column\n",
    "    count = data[feature].nunique()\n",
    "    if n is None:\n",
    "        plt.figure(figsize=(count + 1, 5))\n",
    "    else:\n",
    "        plt.figure(figsize=(n + 1, 5))\n",
    "\n",
    "    plt.xticks(rotation=90, fontsize=15)\n",
    "    ax = sns.countplot(\n",
    "        data=data,\n",
    "        x=feature,\n",
    "        palette=\"Paired\",\n",
    "        order=data[feature].value_counts().index[:n].sort_values(),\n",
    "    )\n",
    "\n",
    "    for p in ax.patches:\n",
    "        if perc == True:\n",
    "            label = \"{:.1f}%\".format(\n",
    "                100 * p.get_height() / total\n",
    "            )  # percentage of each class of the category\n",
    "        else:\n",
    "            label = p.get_height()  # count of each level of the category\n",
    "\n",
    "        x = p.get_x() + p.get_width() / 2  # width of the plot\n",
    "        y = p.get_height()  # height of the plot\n",
    "\n",
    "        ax.annotate(\n",
    "            label,\n",
    "            (x, y),\n",
    "            ha=\"center\",\n",
    "            va=\"center\",\n",
    "            size=12,\n",
    "            xytext=(0, 5),\n",
    "            textcoords=\"offset points\",\n",
    "        )  # annotate the percentage\n",
    "\n",
    "    plt.show()  # show the plot"
   ]
  },
  {
   "cell_type": "code",
   "execution_count": 15,
   "metadata": {},
   "outputs": [
    {
     "name": "stdout",
     "output_type": "stream",
     "text": [
      "Family\n"
     ]
    },
    {
     "data": {
      "image/png": "[encoded data removed]",
      "text/plain": [
       "<Figure size 360x360 with 1 Axes>"
      ]
     },
     "metadata": {
      "needs_background": "light"
     },
     "output_type": "display_data"
    },
    {
     "name": "stdout",
     "output_type": "stream",
     "text": [
      " ****************************************************************** \n",
      "Education\n"
     ]
    },
    {
     "data": {
      "image/png": "[encoded data removed]",
      "text/plain": [
       "<Figure size 288x360 with 1 Axes>"
      ]
     },
     "metadata": {
      "needs_background": "light"
     },
     "output_type": "display_data"
    },
    {
     "name": "stdout",
     "output_type": "stream",
     "text": [
      " ****************************************************************** \n",
      "Personal_Loan\n"
     ]
    },
    {
     "data": {
      "image/png": "[encoded data removed]",
      "text/plain": [
       "<Figure size 216x360 with 1 Axes>"
      ]
     },
     "metadata": {
      "needs_background": "light"
     },
     "output_type": "display_data"
    },
    {
     "name": "stdout",
     "output_type": "stream",
     "text": [
      " ****************************************************************** \n",
      "Securities_Account\n"
     ]
    },
    {
     "data": {
      "image/png": "[encoded data removed]",
      "text/plain": [
       "<Figure size 216x360 with 1 Axes>"
      ]
     },
     "metadata": {
      "needs_background": "light"
     },
     "output_type": "display_data"
    },
    {
     "name": "stdout",
     "output_type": "stream",
     "text": [
      " ****************************************************************** \n",
      "CD_Account\n"
     ]
    },
    {
     "data": {
      "image/png": "[encoded data removed]",
      "text/plain": [
       "<Figure size 216x360 with 1 Axes>"
      ]
     },
     "metadata": {
      "needs_background": "light"
     },
     "output_type": "display_data"
    },
    {
     "name": "stdout",
     "output_type": "stream",
     "text": [
      " ****************************************************************** \n",
      "Online\n"
     ]
    },
    {
     "data": {
      "image/png": "[encoded data removed]",
      "text/plain": [
       "<Figure size 216x360 with 1 Axes>"
      ]
     },
     "metadata": {
      "needs_background": "light"
     },
     "output_type": "display_data"
    },
    {
     "name": "stdout",
     "output_type": "stream",
     "text": [
      " ****************************************************************** \n",
      "CreditCard\n"
     ]
    },
    {
     "data": {
      "image/png": "[encoded data removed]",
      "text/plain": [
       "<Figure size 216x360 with 1 Axes>"
      ]
     },
     "metadata": {
      "needs_background": "light"
     },
     "output_type": "display_data"
    },
    {
     "name": "stdout",
     "output_type": "stream",
     "text": [
      " ****************************************************************** \n"
     ]
    }
   ],
   "source": [
    "## Barplot for the categorical features\n",
    "for col in cat_cols:\n",
    "    print(col)\n",
    "    labeled_barplot(lr_eda, col, perc=True)\n",
    "    plt.show()\n",
    "    print(\n",
    "        \" ****************************************************************** \"\n",
    "    )  ## To create a separator"
   ]
  },
  {
   "cell_type": "markdown",
   "metadata": {},
   "source": [
    "### Observations on Categorical Variables\n",
    "- Possible relationship among the following variables: Securities_Account, Personal Loan, and CD_account and possibly Credit Card.\n",
    "    - Question: do the same customers have multiple accounts of different types\n",
    "    Explore using groupby functions then correlation matrix"
   ]
  },
  {
   "cell_type": "markdown",
   "metadata": {},
   "source": [
    "### Zip code Feature Engineering (convert 467 zipcodes to 38 counties)"
   ]
  },
  {
   "cell_type": "code",
   "execution_count": 16,
   "metadata": {},
   "outputs": [],
   "source": [
    "#resolves ssl certificate error for code in cell that follows\n",
    "#https://moreless.medium.com/how-to-fix-python-ssl-certificate-verify-failed-97772d9dd14c\n",
    "import os, ssl\n",
    "if (not os.environ.get('PYTHONHTTPSVERIFY', '') and\n",
    "getattr(ssl, '_create_unverified_context', None)):\n",
    "    ssl._create_default_https_context = ssl._create_unverified_context"
   ]
  },
  {
   "cell_type": "code",
   "execution_count": 17,
   "metadata": {},
   "outputs": [
    {
     "name": "stdout",
     "output_type": "stream",
     "text": [
      "postal_code              35976\n",
      "country_code                US\n",
      "place_name        Guntersville\n",
      "state_name             Alabama\n",
      "state_code                  AL\n",
      "county_name           Marshall\n",
      "county_code                 95\n",
      "community_name             NaN\n",
      "community_code             NaN\n",
      "latitude               34.3449\n",
      "longitude             -86.2752\n",
      "accuracy                     4\n",
      "Name: 0, dtype: object\n"
     ]
    }
   ],
   "source": [
    "#query for geodata associated to postal code - test query\n",
    "#https://www.journaldev.com/49094/find-address-from-zip-code-in-python\n",
    "import pgeocode\n",
    "data = pgeocode.Nominatim('US')\n",
    "print(data.query_postal_code(\"35976\"))"
   ]
  },
  {
   "cell_type": "code",
   "execution_count": 18,
   "metadata": {},
   "outputs": [],
   "source": [
    "#create list of county/state associated to data ZIPCode\n",
    "state = []\n",
    "county=[]\n",
    "zip = lr_eda['ZIPCode']\n",
    "for i in zip:\n",
    "    df=data.query_postal_code(i)\n",
    "    st=df['state_name']\n",
    "    ct=df['county_name']\n",
    "    state.append(st)\n",
    "    county.append(ct)\n"
   ]
  },
  {
   "cell_type": "code",
   "execution_count": 19,
   "metadata": {},
   "outputs": [
    {
     "data": {
      "text/plain": [
       "ID                    5000\n",
       "Age                     45\n",
       "Experience              47\n",
       "Income                 162\n",
       "ZIPCode                467\n",
       "Family                   4\n",
       "CCAvg                  108\n",
       "Education                3\n",
       "Mortgage               347\n",
       "Personal_Loan            2\n",
       "Securities_Account       2\n",
       "CD_Account               2\n",
       "Online                   2\n",
       "CreditCard               2\n",
       "state                    1\n",
       "county                  38\n",
       "dtype: int64"
      ]
     },
     "execution_count": 19,
     "metadata": {},
     "output_type": "execute_result"
    }
   ],
   "source": [
    "# Add county/state columns to dataset\n",
    "lr_eda['state']=state\n",
    "lr_eda['county']=county  \n",
    "lr_eda.nunique()    "
   ]
  },
  {
   "cell_type": "code",
   "execution_count": 20,
   "metadata": {},
   "outputs": [
    {
     "data": {
      "text/html": [
       "<div>\n",
       "<style scoped>\n",
       "    .dataframe tbody tr th:only-of-type {\n",
       "        vertical-align: middle;\n",
       "    }\n",
       "\n",
       "    .dataframe tbody tr th {\n",
       "        vertical-align: top;\n",
       "    }\n",
       "\n",
       "    .dataframe thead th {\n",
       "        text-align: right;\n",
       "    }\n",
       "</style>\n",
       "<table border=\"1\" class=\"dataframe\">\n",
       "  <thead>\n",
       "    <tr style=\"text-align: right;\">\n",
       "      <th></th>\n",
       "      <th>ID</th>\n",
       "      <th>Age</th>\n",
       "      <th>Experience</th>\n",
       "      <th>Income</th>\n",
       "      <th>ZIPCode</th>\n",
       "      <th>Family</th>\n",
       "      <th>CCAvg</th>\n",
       "      <th>Education</th>\n",
       "      <th>Mortgage</th>\n",
       "      <th>Personal_Loan</th>\n",
       "      <th>Securities_Account</th>\n",
       "      <th>CD_Account</th>\n",
       "      <th>Online</th>\n",
       "      <th>CreditCard</th>\n",
       "      <th>state</th>\n",
       "      <th>county</th>\n",
       "    </tr>\n",
       "  </thead>\n",
       "  <tbody>\n",
       "    <tr>\n",
       "      <th>0</th>\n",
       "      <td>1</td>\n",
       "      <td>25</td>\n",
       "      <td>1</td>\n",
       "      <td>49</td>\n",
       "      <td>91107</td>\n",
       "      <td>4</td>\n",
       "      <td>1.6</td>\n",
       "      <td>1</td>\n",
       "      <td>0</td>\n",
       "      <td>0</td>\n",
       "      <td>1</td>\n",
       "      <td>0</td>\n",
       "      <td>0</td>\n",
       "      <td>0</td>\n",
       "      <td>California</td>\n",
       "      <td>Los Angeles</td>\n",
       "    </tr>\n",
       "    <tr>\n",
       "      <th>1</th>\n",
       "      <td>2</td>\n",
       "      <td>45</td>\n",
       "      <td>19</td>\n",
       "      <td>34</td>\n",
       "      <td>90089</td>\n",
       "      <td>3</td>\n",
       "      <td>1.5</td>\n",
       "      <td>1</td>\n",
       "      <td>0</td>\n",
       "      <td>0</td>\n",
       "      <td>1</td>\n",
       "      <td>0</td>\n",
       "      <td>0</td>\n",
       "      <td>0</td>\n",
       "      <td>California</td>\n",
       "      <td>Los Angeles</td>\n",
       "    </tr>\n",
       "    <tr>\n",
       "      <th>2</th>\n",
       "      <td>3</td>\n",
       "      <td>39</td>\n",
       "      <td>15</td>\n",
       "      <td>11</td>\n",
       "      <td>94720</td>\n",
       "      <td>1</td>\n",
       "      <td>1.0</td>\n",
       "      <td>1</td>\n",
       "      <td>0</td>\n",
       "      <td>0</td>\n",
       "      <td>0</td>\n",
       "      <td>0</td>\n",
       "      <td>0</td>\n",
       "      <td>0</td>\n",
       "      <td>California</td>\n",
       "      <td>Alameda</td>\n",
       "    </tr>\n",
       "    <tr>\n",
       "      <th>3</th>\n",
       "      <td>4</td>\n",
       "      <td>35</td>\n",
       "      <td>9</td>\n",
       "      <td>100</td>\n",
       "      <td>94112</td>\n",
       "      <td>1</td>\n",
       "      <td>2.7</td>\n",
       "      <td>2</td>\n",
       "      <td>0</td>\n",
       "      <td>0</td>\n",
       "      <td>0</td>\n",
       "      <td>0</td>\n",
       "      <td>0</td>\n",
       "      <td>0</td>\n",
       "      <td>California</td>\n",
       "      <td>City and County of San Francisco</td>\n",
       "    </tr>\n",
       "    <tr>\n",
       "      <th>4</th>\n",
       "      <td>5</td>\n",
       "      <td>35</td>\n",
       "      <td>8</td>\n",
       "      <td>45</td>\n",
       "      <td>91330</td>\n",
       "      <td>4</td>\n",
       "      <td>1.0</td>\n",
       "      <td>2</td>\n",
       "      <td>0</td>\n",
       "      <td>0</td>\n",
       "      <td>0</td>\n",
       "      <td>0</td>\n",
       "      <td>0</td>\n",
       "      <td>1</td>\n",
       "      <td>California</td>\n",
       "      <td>Los Angeles</td>\n",
       "    </tr>\n",
       "  </tbody>\n",
       "</table>\n",
       "</div>"
      ],
      "text/plain": [
       "   ID  Age  Experience  Income  ZIPCode Family  CCAvg Education  Mortgage  \\\n",
       "0   1   25           1      49    91107      4    1.6         1         0   \n",
       "1   2   45          19      34    90089      3    1.5         1         0   \n",
       "2   3   39          15      11    94720      1    1.0         1         0   \n",
       "3   4   35           9     100    94112      1    2.7         2         0   \n",
       "4   5   35           8      45    91330      4    1.0         2         0   \n",
       "\n",
       "  Personal_Loan Securities_Account CD_Account Online CreditCard       state  \\\n",
       "0             0                  1          0      0          0  California   \n",
       "1             0                  1          0      0          0  California   \n",
       "2             0                  0          0      0          0  California   \n",
       "3             0                  0          0      0          0  California   \n",
       "4             0                  0          0      0          1  California   \n",
       "\n",
       "                             county  \n",
       "0                       Los Angeles  \n",
       "1                       Los Angeles  \n",
       "2                           Alameda  \n",
       "3  City and County of San Francisco  \n",
       "4                       Los Angeles  "
      ]
     },
     "execution_count": 20,
     "metadata": {},
     "output_type": "execute_result"
    }
   ],
   "source": [
    "## add county/state columns to all data sets\n",
    "lr_clean['state']=state\n",
    "lr_clean['county']=county\n",
    "\n",
    "dt_clean['county']=county\n",
    "dt_clean['state']=state\n",
    "dt_eda['state']=state\n",
    "dt_eda['county']=county\n",
    "\n",
    "lr_eda.head()"
   ]
  },
  {
   "cell_type": "code",
   "execution_count": 21,
   "metadata": {},
   "outputs": [
    {
     "data": {
      "text/plain": [
       "<AxesSubplot:xlabel='Income'>"
      ]
     },
     "execution_count": 21,
     "metadata": {},
     "output_type": "execute_result"
    },
    {
     "data": {
      "image/png": "[encoded data removed]",
      "text/plain": [
       "<Figure size 432x288 with 1 Axes>"
      ]
     },
     "metadata": {
      "needs_background": "light"
     },
     "output_type": "display_data"
    }
   ],
   "source": [
    "### Check Income for outliers\n",
    "sns.boxplot(data=lr_eda, x='Income')"
   ]
  },
  {
   "cell_type": "code",
   "execution_count": 22,
   "metadata": {},
   "outputs": [
    {
     "data": {
      "text/plain": [
       "205.0"
      ]
     },
     "execution_count": 22,
     "metadata": {},
     "output_type": "execute_result"
    }
   ],
   "source": [
    "lr_eda.Income.quantile(.9995)"
   ]
  },
  {
   "cell_type": "code",
   "execution_count": 23,
   "metadata": {},
   "outputs": [
    {
     "data": {
      "text/html": [
       "<div>\n",
       "<style scoped>\n",
       "    .dataframe tbody tr th:only-of-type {\n",
       "        vertical-align: middle;\n",
       "    }\n",
       "\n",
       "    .dataframe tbody tr th {\n",
       "        vertical-align: top;\n",
       "    }\n",
       "\n",
       "    .dataframe thead th {\n",
       "        text-align: right;\n",
       "    }\n",
       "</style>\n",
       "<table border=\"1\" class=\"dataframe\">\n",
       "  <thead>\n",
       "    <tr style=\"text-align: right;\">\n",
       "      <th></th>\n",
       "      <th>ID</th>\n",
       "      <th>Age</th>\n",
       "      <th>Experience</th>\n",
       "      <th>Income</th>\n",
       "      <th>ZIPCode</th>\n",
       "      <th>Family</th>\n",
       "      <th>CCAvg</th>\n",
       "      <th>Education</th>\n",
       "      <th>Mortgage</th>\n",
       "      <th>Personal_Loan</th>\n",
       "      <th>Securities_Account</th>\n",
       "      <th>CD_Account</th>\n",
       "      <th>Online</th>\n",
       "      <th>CreditCard</th>\n",
       "      <th>state</th>\n",
       "      <th>county</th>\n",
       "    </tr>\n",
       "  </thead>\n",
       "  <tbody>\n",
       "    <tr>\n",
       "      <th>4993</th>\n",
       "      <td>4994</td>\n",
       "      <td>45</td>\n",
       "      <td>21</td>\n",
       "      <td>218</td>\n",
       "      <td>91801</td>\n",
       "      <td>2</td>\n",
       "      <td>6.67</td>\n",
       "      <td>1</td>\n",
       "      <td>0</td>\n",
       "      <td>0</td>\n",
       "      <td>0</td>\n",
       "      <td>0</td>\n",
       "      <td>1</td>\n",
       "      <td>0</td>\n",
       "      <td>California</td>\n",
       "      <td>Los Angeles</td>\n",
       "    </tr>\n",
       "    <tr>\n",
       "      <th>3896</th>\n",
       "      <td>3897</td>\n",
       "      <td>48</td>\n",
       "      <td>24</td>\n",
       "      <td>224</td>\n",
       "      <td>93940</td>\n",
       "      <td>2</td>\n",
       "      <td>6.67</td>\n",
       "      <td>1</td>\n",
       "      <td>0</td>\n",
       "      <td>0</td>\n",
       "      <td>0</td>\n",
       "      <td>1</td>\n",
       "      <td>1</td>\n",
       "      <td>1</td>\n",
       "      <td>California</td>\n",
       "      <td>Monterey</td>\n",
       "    </tr>\n",
       "  </tbody>\n",
       "</table>\n",
       "</div>"
      ],
      "text/plain": [
       "        ID  Age  Experience  Income  ZIPCode Family  CCAvg Education  \\\n",
       "4993  4994   45          21     218    91801      2   6.67         1   \n",
       "3896  3897   48          24     224    93940      2   6.67         1   \n",
       "\n",
       "      Mortgage Personal_Loan Securities_Account CD_Account Online CreditCard  \\\n",
       "4993         0             0                  0          0      1          0   \n",
       "3896         0             0                  0          1      1          1   \n",
       "\n",
       "           state       county  \n",
       "4993  California  Los Angeles  \n",
       "3896  California     Monterey  "
      ]
     },
     "execution_count": 23,
     "metadata": {},
     "output_type": "execute_result"
    }
   ],
   "source": [
    "lr_eda.loc[(lr_eda['Income']>205)].sort_values(by='Income')"
   ]
  },
  {
   "cell_type": "code",
   "execution_count": 24,
   "metadata": {},
   "outputs": [],
   "source": [
    "### Observation: Box plot shows 2 outliers that are significant: 218 and 224"
   ]
  },
  {
   "cell_type": "markdown",
   "metadata": {},
   "source": [
    "## Bivariate analysis"
   ]
  },
  {
   "cell_type": "code",
   "execution_count": null,
   "metadata": {},
   "outputs": [],
   "source": []
  },
  {
   "cell_type": "markdown",
   "metadata": {},
   "source": [
    "### Use Groupby functions to explore relationship among Securities_Account, Personal Loan, and CD_account and possibly Credit Card"
   ]
  },
  {
   "cell_type": "code",
   "execution_count": 25,
   "metadata": {},
   "outputs": [
    {
     "data": {
      "text/plain": [
       "Personal_Loan  Securities_Account\n",
       "0              0                     4058\n",
       "               1                      462\n",
       "1              0                      420\n",
       "               1                       60\n",
       "Name: Securities_Account, dtype: int64"
      ]
     },
     "execution_count": 25,
     "metadata": {},
     "output_type": "execute_result"
    }
   ],
   "source": [
    "lr_eda.groupby('Personal_Loan').Securities_Account.value_counts()"
   ]
  },
  {
   "cell_type": "code",
   "execution_count": 26,
   "metadata": {},
   "outputs": [
    {
     "data": {
      "text/plain": [
       "Personal_Loan  CD_Account\n",
       "0              0             4358\n",
       "               1              162\n",
       "1              0              340\n",
       "               1              140\n",
       "Name: CD_Account, dtype: int64"
      ]
     },
     "execution_count": 26,
     "metadata": {},
     "output_type": "execute_result"
    }
   ],
   "source": [
    "lr_eda.groupby('Personal_Loan').CD_Account.value_counts()"
   ]
  },
  {
   "cell_type": "code",
   "execution_count": 27,
   "metadata": {},
   "outputs": [
    {
     "data": {
      "text/plain": [
       "CD_Account  Securities_Account\n",
       "0           0                     4323\n",
       "            1                      375\n",
       "1           0                      155\n",
       "            1                      147\n",
       "Name: Securities_Account, dtype: int64"
      ]
     },
     "execution_count": 27,
     "metadata": {},
     "output_type": "execute_result"
    }
   ],
   "source": [
    "lr_eda.groupby('CD_Account').Securities_Account.value_counts()"
   ]
  },
  {
   "cell_type": "code",
   "execution_count": 28,
   "metadata": {},
   "outputs": [
    {
     "data": {
      "text/plain": [
       "0.021953882216311366"
      ]
     },
     "execution_count": 28,
     "metadata": {},
     "output_type": "execute_result"
    }
   ],
   "source": [
    "lr_clean['Personal_Loan'].corr(lr_clean['Securities_Account'])"
   ]
  },
  {
   "cell_type": "code",
   "execution_count": 29,
   "metadata": {},
   "outputs": [
    {
     "data": {
      "image/png": "[encoded data removed]",
      "text/plain": [
       "<Figure size 864x504 with 2 Axes>"
      ]
     },
     "metadata": {
      "needs_background": "light"
     },
     "output_type": "display_data"
    }
   ],
   "source": [
    "plt.figure(figsize=(12,7))\n",
    "sns.heatmap(lr_eda.corr(),annot=True,vmin=-1,vmax=1)\n",
    "plt.show()"
   ]
  },
  {
   "cell_type": "code",
   "execution_count": 30,
   "metadata": {},
   "outputs": [
    {
     "data": {
      "image/png": "[encoded data removed]",
      "text/plain": [
       "<Figure size 864x504 with 2 Axes>"
      ]
     },
     "metadata": {
      "needs_background": "light"
     },
     "output_type": "display_data"
    }
   ],
   "source": [
    "plt.figure(figsize=(12,7))\n",
    "sns.heatmap(lr_clean.corr(),annot=True,vmin=-1,vmax=1)\n",
    "plt.show()"
   ]
  },
  {
   "cell_type": "markdown",
   "metadata": {},
   "source": [
    "### There is no strong correlation between the variables\n",
    "Question: Does the location (county) impact other variables, especially target variable, Personal Loan?"
   ]
  },
  {
   "cell_type": "markdown",
   "metadata": {},
   "source": [
    "## Explore Relationship between location and Personal Loan "
   ]
  },
  {
   "cell_type": "code",
   "execution_count": 31,
   "metadata": {},
   "outputs": [
    {
     "data": {
      "text/plain": [
       "county                            Personal_Loan\n",
       "Alameda                           1                 44\n",
       "Butte                             1                  2\n",
       "City and County of San Francisco  1                 19\n",
       "Contra Costa                      1                 12\n",
       "El Dorado                         1                  1\n",
       "Fresno                            1                  2\n",
       "Humboldt                          1                  2\n",
       "Kern                              1                  7\n",
       "Los Angeles                       1                111\n",
       "Marin                             1                  6\n",
       "Mendocino                         1                  1\n",
       "Monterey                          1                 15\n",
       "Orange                            1                 29\n",
       "Placer                            1                  2\n",
       "Riverside                         1                  6\n",
       "Sacramento                        1                 15\n",
       "San Bernardino                    1                  3\n",
       "San Diego                         1                 59\n",
       "San Joaquin                       1                  1\n",
       "San Luis Obispo                   1                  5\n",
       "San Mateo                         1                 12\n",
       "Santa Barbara                     1                 11\n",
       "Santa Clara                       1                 71\n",
       "Santa Cruz                        1                  8\n",
       "Shasta                            1                  3\n",
       "Solano                            1                  3\n",
       "Sonoma                            1                  6\n",
       "Stanislaus                        1                  1\n",
       "Ventura                           1                 11\n",
       "Yolo                              1                  8\n",
       "Name: Personal_Loan, dtype: int64"
      ]
     },
     "execution_count": 31,
     "metadata": {},
     "output_type": "execute_result"
    }
   ],
   "source": [
    "#Group Personal Loan by County\n",
    "lr_eda[lr_eda['Personal_Loan']==1].groupby('county').Personal_Loan.value_counts()"
   ]
  },
  {
   "cell_type": "code",
   "execution_count": 32,
   "metadata": {},
   "outputs": [
    {
     "data": {
      "text/plain": [
       "county                            Personal_Loan\n",
       "San Bernardino                    1                  2.970297\n",
       "El Dorado                         1                  5.882353\n",
       "San Mateo                         1                  5.882353\n",
       "Yolo                              1                  6.153846\n",
       "Humboldt                          1                  6.250000\n",
       "Stanislaus                        1                  6.666667\n",
       "Santa Barbara                     1                  7.142857\n",
       "City and County of San Francisco  1                  7.392996\n",
       "San Joaquin                       1                  7.692308\n",
       "Fresno                            1                  7.692308\n",
       "Sacramento                        1                  8.152174\n",
       "Placer                            1                  8.333333\n",
       "Orange                            1                  8.734940\n",
       "Alameda                           1                  8.800000\n",
       "Solano                            1                  9.090909\n",
       "Ventura                           1                  9.649123\n",
       "Los Angeles                       1                 10.136986\n",
       "San Diego                         1                 10.387324\n",
       "Butte                             1                 10.526316\n",
       "Riverside                         1                 10.714286\n",
       "Marin                             1                 11.111111\n",
       "Monterey                          1                 11.718750\n",
       "Santa Cruz                        1                 11.764706\n",
       "Mendocino                         1                 12.500000\n",
       "Santa Clara                       1                 12.611012\n",
       "Kern                              1                 12.962963\n",
       "Contra Costa                      1                 14.117647\n",
       "San Luis Obispo                   1                 15.151515\n",
       "Shasta                            1                 16.666667\n",
       "Sonoma                            1                 21.428571\n",
       "                                  0                 78.571429\n",
       "Shasta                            0                 83.333333\n",
       "San Luis Obispo                   0                 84.848485\n",
       "Contra Costa                      0                 85.882353\n",
       "Kern                              0                 87.037037\n",
       "Santa Clara                       0                 87.388988\n",
       "Mendocino                         0                 87.500000\n",
       "Santa Cruz                        0                 88.235294\n",
       "Monterey                          0                 88.281250\n",
       "Marin                             0                 88.888889\n",
       "Riverside                         0                 89.285714\n",
       "Butte                             0                 89.473684\n",
       "San Diego                         0                 89.612676\n",
       "Los Angeles                       0                 89.863014\n",
       "Ventura                           0                 90.350877\n",
       "Solano                            0                 90.909091\n",
       "Alameda                           0                 91.200000\n",
       "Orange                            0                 91.265060\n",
       "Placer                            0                 91.666667\n",
       "Sacramento                        0                 91.847826\n",
       "San Joaquin                       0                 92.307692\n",
       "Fresno                            0                 92.307692\n",
       "City and County of San Francisco  0                 92.607004\n",
       "Santa Barbara                     0                 92.857143\n",
       "Stanislaus                        0                 93.333333\n",
       "Humboldt                          0                 93.750000\n",
       "Yolo                              0                 93.846154\n",
       "El Dorado                         0                 94.117647\n",
       "San Mateo                         0                 94.117647\n",
       "San Bernardino                    0                 97.029703\n",
       "Tuolumne                          0                100.000000\n",
       "Trinity                           0                100.000000\n",
       "San Benito                        0                100.000000\n",
       "Imperial                          0                100.000000\n",
       "Siskiyou                          0                100.000000\n",
       "Lake                              0                100.000000\n",
       "Merced                            0                100.000000\n",
       "Napa                              0                100.000000\n",
       "Name: Personal_Loan, dtype: float64"
      ]
     },
     "execution_count": 32,
     "metadata": {},
     "output_type": "execute_result"
    }
   ],
   "source": [
    "#Change to Percentages and sort\n",
    "x=(lr_eda.groupby('county').Personal_Loan.value_counts(normalize=True))*100\n",
    "\n",
    "x.sort_values()\n"
   ]
  },
  {
   "cell_type": "code",
   "execution_count": 33,
   "metadata": {},
   "outputs": [
    {
     "data": {
      "text/plain": [
       "county                            Personal_Loan\n",
       "San Bernardino                    1                 2.970297\n",
       "El Dorado                         1                 5.882353\n",
       "San Mateo                         1                 5.882353\n",
       "Yolo                              1                 6.153846\n",
       "Humboldt                          1                 6.250000\n",
       "Stanislaus                        1                 6.666667\n",
       "Santa Barbara                     1                 7.142857\n",
       "City and County of San Francisco  1                 7.392996\n",
       "Fresno                            1                 7.692308\n",
       "San Joaquin                       1                 7.692308\n",
       "Sacramento                        1                 8.152174\n",
       "Placer                            1                 8.333333\n",
       "Orange                            1                 8.734940\n",
       "Alameda                           1                 8.800000\n",
       "Solano                            1                 9.090909\n",
       "Ventura                           1                 9.649123\n",
       "Los Angeles                       1                10.136986\n",
       "San Diego                         1                10.387324\n",
       "Butte                             1                10.526316\n",
       "Riverside                         1                10.714286\n",
       "Marin                             1                11.111111\n",
       "Monterey                          1                11.718750\n",
       "Santa Cruz                        1                11.764706\n",
       "Mendocino                         1                12.500000\n",
       "Santa Clara                       1                12.611012\n",
       "Kern                              1                12.962963\n",
       "Contra Costa                      1                14.117647\n",
       "San Luis Obispo                   1                15.151515\n",
       "Shasta                            1                16.666667\n",
       "Sonoma                            1                21.428571\n",
       "Name: Personal_Loan, dtype: float64"
      ]
     },
     "execution_count": 33,
     "metadata": {},
     "output_type": "execute_result"
    }
   ],
   "source": [
    "# Sonoma County appears to have largest loan acceptance rate (~21.4%); use this value to filter results;\n",
    "# Sort to determine counties with lowest and highest loan acceptance rates\n",
    "x.loc[x<78].sort_values()"
   ]
  },
  {
   "cell_type": "markdown",
   "metadata": {},
   "source": [
    "## Explore relationship between location and mortgage "
   ]
  },
  {
   "cell_type": "code",
   "execution_count": 34,
   "metadata": {},
   "outputs": [
    {
     "data": {
      "text/html": [
       "<div>\n",
       "<style scoped>\n",
       "    .dataframe tbody tr th:only-of-type {\n",
       "        vertical-align: middle;\n",
       "    }\n",
       "\n",
       "    .dataframe tbody tr th {\n",
       "        vertical-align: top;\n",
       "    }\n",
       "\n",
       "    .dataframe thead th {\n",
       "        text-align: right;\n",
       "    }\n",
       "</style>\n",
       "<table border=\"1\" class=\"dataframe\">\n",
       "  <thead>\n",
       "    <tr style=\"text-align: right;\">\n",
       "      <th></th>\n",
       "      <th>Mortgage</th>\n",
       "    </tr>\n",
       "  </thead>\n",
       "  <tbody>\n",
       "    <tr>\n",
       "      <th>count</th>\n",
       "      <td>5000.000000</td>\n",
       "    </tr>\n",
       "    <tr>\n",
       "      <th>mean</th>\n",
       "      <td>56.498800</td>\n",
       "    </tr>\n",
       "    <tr>\n",
       "      <th>std</th>\n",
       "      <td>101.713802</td>\n",
       "    </tr>\n",
       "    <tr>\n",
       "      <th>min</th>\n",
       "      <td>0.000000</td>\n",
       "    </tr>\n",
       "    <tr>\n",
       "      <th>25%</th>\n",
       "      <td>0.000000</td>\n",
       "    </tr>\n",
       "    <tr>\n",
       "      <th>50%</th>\n",
       "      <td>0.000000</td>\n",
       "    </tr>\n",
       "    <tr>\n",
       "      <th>75%</th>\n",
       "      <td>101.000000</td>\n",
       "    </tr>\n",
       "    <tr>\n",
       "      <th>max</th>\n",
       "      <td>635.000000</td>\n",
       "    </tr>\n",
       "  </tbody>\n",
       "</table>\n",
       "</div>"
      ],
      "text/plain": [
       "          Mortgage\n",
       "count  5000.000000\n",
       "mean     56.498800\n",
       "std     101.713802\n",
       "min       0.000000\n",
       "25%       0.000000\n",
       "50%       0.000000\n",
       "75%     101.000000\n",
       "max     635.000000"
      ]
     },
     "execution_count": 34,
     "metadata": {},
     "output_type": "execute_result"
    }
   ],
   "source": [
    "#Describe Mortgage data\n",
    "lr_eda[['Mortgage']].describe()"
   ]
  },
  {
   "cell_type": "code",
   "execution_count": 35,
   "metadata": {},
   "outputs": [
    {
     "data": {
      "text/plain": [
       "county\n",
       "Trinity                               0.000000\n",
       "Merced                                0.000000\n",
       "Placer                               24.666667\n",
       "San Luis Obispo                      29.787879\n",
       "Marin                                38.555556\n",
       "Humboldt                             39.593750\n",
       "Riverside                            43.160714\n",
       "Solano                               46.727273\n",
       "Fresno                               51.384615\n",
       "El Dorado                            53.764706\n",
       "Alameda                              53.770000\n",
       "Santa Clara                          54.158082\n",
       "Contra Costa                         54.482353\n",
       "Yolo                                 54.938462\n",
       "Los Angeles                          56.034703\n",
       "Siskiyou                             56.285714\n",
       "San Diego                            56.292254\n",
       "San Mateo                            56.348039\n",
       "Monterey                             56.562500\n",
       "Kern                                 56.648148\n",
       "Ventura                              56.807018\n",
       "Orange                               56.924699\n",
       "San Joaquin                          58.769231\n",
       "City and County of San Francisco     60.871595\n",
       "Santa Barbara                        64.292208\n",
       "Santa Cruz                           64.882353\n",
       "Sacramento                           65.777174\n",
       "Shasta                               67.333333\n",
       "San Bernardino                       71.772277\n",
       "Tuolumne                             74.285714\n",
       "Lake                                 74.750000\n",
       "Butte                                75.052632\n",
       "Sonoma                               77.035714\n",
       "Stanislaus                           77.933333\n",
       "Imperial                             79.333333\n",
       "Napa                                100.000000\n",
       "San Benito                          101.642857\n",
       "Mendocino                           131.625000\n",
       "Name: Mortgage, dtype: float64"
      ]
     },
     "execution_count": 35,
     "metadata": {},
     "output_type": "execute_result"
    }
   ],
   "source": [
    "#Understand the mean mortgage per county\n",
    "mbc=lr_eda.groupby('county').Mortgage.mean()\n",
    "mbc.sort_values()"
   ]
  },
  {
   "cell_type": "code",
   "execution_count": 36,
   "metadata": {},
   "outputs": [
    {
     "data": {
      "text/plain": [
       "37"
      ]
     },
     "execution_count": 36,
     "metadata": {},
     "output_type": "execute_result"
    }
   ],
   "source": [
    "mbc.nunique()"
   ]
  },
  {
   "cell_type": "code",
   "execution_count": 37,
   "metadata": {},
   "outputs": [
    {
     "data": {
      "text/plain": [
       "county\n",
       "Napa                                   3\n",
       "Imperial                               3\n",
       "Merced                                 4\n",
       "Lake                                   4\n",
       "Trinity                                4\n",
       "Siskiyou                               7\n",
       "Tuolumne                               7\n",
       "Mendocino                              8\n",
       "San Joaquin                           13\n",
       "San Benito                            14\n",
       "Stanislaus                            15\n",
       "El Dorado                             17\n",
       "Shasta                                18\n",
       "Butte                                 19\n",
       "Placer                                24\n",
       "Fresno                                26\n",
       "Sonoma                                28\n",
       "Humboldt                              32\n",
       "San Luis Obispo                       33\n",
       "Solano                                33\n",
       "Marin                                 54\n",
       "Kern                                  54\n",
       "Riverside                             56\n",
       "Santa Cruz                            68\n",
       "Contra Costa                          85\n",
       "San Bernardino                       101\n",
       "Ventura                              114\n",
       "Monterey                             128\n",
       "Yolo                                 130\n",
       "Santa Barbara                        154\n",
       "Sacramento                           184\n",
       "San Mateo                            204\n",
       "City and County of San Francisco     257\n",
       "Orange                               332\n",
       "Alameda                              500\n",
       "Santa Clara                          563\n",
       "San Diego                            568\n",
       "Los Angeles                         1095\n",
       "Name: county, dtype: int64"
      ]
     },
     "execution_count": 37,
     "metadata": {},
     "output_type": "execute_result"
    }
   ],
   "source": [
    "#Understand the count of mortgages per county\n",
    "mdc_count=lr_eda.groupby('county').county.count()\n",
    "mdc_count.sort_values()"
   ]
  },
  {
   "cell_type": "code",
   "execution_count": 38,
   "metadata": {},
   "outputs": [
    {
     "data": {
      "text/plain": [
       "count     38.000000\n",
       "mean      59.006576\n",
       "std       24.032356\n",
       "min        0.000000\n",
       "25%       53.766029\n",
       "50%       56.605324\n",
       "75%       70.662541\n",
       "max      131.625000\n",
       "Name: Mortgage, dtype: float64"
      ]
     },
     "execution_count": 38,
     "metadata": {},
     "output_type": "execute_result"
    }
   ],
   "source": [
    "mbc.describe()"
   ]
  },
  {
   "cell_type": "code",
   "execution_count": 39,
   "metadata": {},
   "outputs": [
    {
     "data": {
      "text/plain": [
       "431.0100000000002"
      ]
     },
     "execution_count": 39,
     "metadata": {},
     "output_type": "execute_result"
    }
   ],
   "source": [
    "#Calculate the 99% of mortgage values\n",
    "lr_eda.Mortgage.quantile(.99)"
   ]
  },
  {
   "cell_type": "code",
   "execution_count": 40,
   "metadata": {},
   "outputs": [
    {
     "data": {
      "text/plain": [
       "ID                    51\n",
       "Age                   51\n",
       "Experience            51\n",
       "Income                51\n",
       "ZIPCode               51\n",
       "Family                51\n",
       "CCAvg                 51\n",
       "Education             51\n",
       "Mortgage              51\n",
       "Personal_Loan         51\n",
       "Securities_Account    51\n",
       "CD_Account            51\n",
       "Online                51\n",
       "CreditCard            51\n",
       "state                 51\n",
       "county                51\n",
       "dtype: int64"
      ]
     },
     "execution_count": 40,
     "metadata": {},
     "output_type": "execute_result"
    }
   ],
   "source": [
    "lr_eda.loc[(lr_eda['Mortgage']>=431)].count()"
   ]
  },
  {
   "cell_type": "markdown",
   "metadata": {},
   "source": [
    "## Check Income for impact of outliers"
   ]
  },
  {
   "cell_type": "code",
   "execution_count": null,
   "metadata": {},
   "outputs": [],
   "source": []
  },
  {
   "cell_type": "markdown",
   "metadata": {},
   "source": [
    "## EDA Summary\n",
    "### Data Description\n",
    "- 5000 rows and 14 columns\n",
    "- all columns are dtype numerical\n",
    "- no missing values\n",
    "- unique value count indicates that several variables might be better typed as categorical although for regression types should be numerical therefore this step may ony be necessary for EDA\n",
    "- ZIPCode column present a challenge with 467 values\n",
    "\n",
    "### EDA Observations\n",
    "- Customer ID: likely a primary key (sequential) which matches the row index of the dataframe; \n",
    "    - variable will NOT be informational and should not be used in the model.\n",
    "- Age: Customer's age in completed years; Age ranges from 23 5o 67 with mean and median  of approx 45; \n",
    "    - value is an integer; Age does not have outliers\n",
    "- Experience: Number of years of professional experience;  Experience ranges from -3 to 43 with a median of 20 and mean of ~20\n",
    "    - value is an integer; Experience does not have null values or outliers\n",
    "- Income: Annual Income of the customer (in thousands of dollars); Income ranges from 8000 to 224000 with a median of 64000 and a mean of ~74000;\n",
    "    - Income is skewed right; Significant outliers are 218 and 224\n",
    "- Zip Code: Home address Zip Code\n",
    "    - Mapped ZIPCode to new features: state and county\n",
    "    - County is more informative than ZIPCode; ZIPCode has 467 unique values whereas couty only has 38\n",
    "- Family: Family size of the customer; family is an integer ranging from 1 to 4 with median of 2 and mean of ~2.4;\n",
    "- CCAvg: Average spending on credit cards per month (in thousands of dollars); CC Average ranges from 0 to 10000 with a median of 1500 and a mean of ~1938 dollars\n",
    "    - CCAvg is skewed right\n",
    "    - outliers are not extreme and reasonable for problem\n",
    "    - consider scaling data after test train split\n",
    "- Education: Education level 1:Undergrad; 2:Graduate, 3:Advanced/Professional\n",
    "    - consider changing this variable to categorical for EDA\n",
    "- Mortgage: Value of house mortgage, if any in thousands of dollars; Mortgage ranges from 0 to 635000 with a median of 0 an mean of ~56499\n",
    "    - Mortgage is heavily skewed right; outliers seem to be within an acceptable range for a lgo normal distribution\n",
    "    - value is an integer;\n",
    "- Personal_Loan: Did the customer accept a personal loan in the last campaign\n",
    "    - consider changing the variable to categorical for EDA\n",
    "- Securities_Account: Does the customer have a securities account with the bank\n",
    "    - consider changing this variable to categorical for EDA\n",
    "- CD_Account: Does the customer have a certificate of deposit account with the bank\n",
    "    - consider changing this variable to categorical for EDA\n",
    "- Online: Do customers use internet banking facilities\n",
    "    - consider changing this variable to categorical for EDA\n",
    "- CreditCard: Does the customer usee a credit card issued by any other Bank (excluding All Life Bank)?\n",
    "    - consider changing this variable to categorical for EDA\n",
    "### Data Cleaning for logistic regression\n",
    "- ID: Remove ID from Dataset\n",
    "- Age: No cleaning needed\n",
    "- Experience: No cleaning needed\n",
    "- Income: Impute outliers 218 and 224 for 99.9 percentile 205; After test/train split, use MinMax scaling\n",
    "- ZIPCode\n",
    "    - Drop new feature 'state' as it contains a single value for all rows ('California') and therefor does not inform the model. \n",
    "    - Drop ZIPCode as it has been engineered to county which is more informative for the model.\n",
    "- Family: convert family to categorical; convert categorical to dummy indicator variables\n",
    "- CCAVG: Perform a log scale (after test/train split)\n",
    "- Education: convert family to categorical; convert categorical to dummy indicator variables\n",
    "- Mortgage: scale using log scale after test/train split\n",
    "- Personal_Loan: target variable; no change to feature\n",
    "- Securities account: no cleaning needed\n",
    "- CD_Account: no cleaning needed\n",
    "- ONline: no cleaning needed\n",
    "- CreditCard:no cleaning needed\n",
    "\n",
    "\n"
   ]
  },
  {
   "cell_type": "markdown",
   "metadata": {},
   "source": [
    "## Data Preparation for Logistic Regression"
   ]
  },
  {
   "cell_type": "code",
   "execution_count": 41,
   "metadata": {},
   "outputs": [
    {
     "data": {
      "text/html": [
       "<div>\n",
       "<style scoped>\n",
       "    .dataframe tbody tr th:only-of-type {\n",
       "        vertical-align: middle;\n",
       "    }\n",
       "\n",
       "    .dataframe tbody tr th {\n",
       "        vertical-align: top;\n",
       "    }\n",
       "\n",
       "    .dataframe thead th {\n",
       "        text-align: right;\n",
       "    }\n",
       "</style>\n",
       "<table border=\"1\" class=\"dataframe\">\n",
       "  <thead>\n",
       "    <tr style=\"text-align: right;\">\n",
       "      <th></th>\n",
       "      <th>ID</th>\n",
       "      <th>Age</th>\n",
       "      <th>Experience</th>\n",
       "      <th>Income</th>\n",
       "      <th>ZIPCode</th>\n",
       "      <th>Family</th>\n",
       "      <th>CCAvg</th>\n",
       "      <th>Education</th>\n",
       "      <th>Mortgage</th>\n",
       "      <th>Personal_Loan</th>\n",
       "      <th>Securities_Account</th>\n",
       "      <th>CD_Account</th>\n",
       "      <th>Online</th>\n",
       "      <th>CreditCard</th>\n",
       "      <th>state</th>\n",
       "      <th>county</th>\n",
       "    </tr>\n",
       "  </thead>\n",
       "  <tbody>\n",
       "    <tr>\n",
       "      <th>0</th>\n",
       "      <td>1</td>\n",
       "      <td>25</td>\n",
       "      <td>1</td>\n",
       "      <td>49</td>\n",
       "      <td>91107</td>\n",
       "      <td>4</td>\n",
       "      <td>1.6</td>\n",
       "      <td>1</td>\n",
       "      <td>0</td>\n",
       "      <td>0</td>\n",
       "      <td>1</td>\n",
       "      <td>0</td>\n",
       "      <td>0</td>\n",
       "      <td>0</td>\n",
       "      <td>California</td>\n",
       "      <td>Los Angeles</td>\n",
       "    </tr>\n",
       "    <tr>\n",
       "      <th>1</th>\n",
       "      <td>2</td>\n",
       "      <td>45</td>\n",
       "      <td>19</td>\n",
       "      <td>34</td>\n",
       "      <td>90089</td>\n",
       "      <td>3</td>\n",
       "      <td>1.5</td>\n",
       "      <td>1</td>\n",
       "      <td>0</td>\n",
       "      <td>0</td>\n",
       "      <td>1</td>\n",
       "      <td>0</td>\n",
       "      <td>0</td>\n",
       "      <td>0</td>\n",
       "      <td>California</td>\n",
       "      <td>Los Angeles</td>\n",
       "    </tr>\n",
       "    <tr>\n",
       "      <th>2</th>\n",
       "      <td>3</td>\n",
       "      <td>39</td>\n",
       "      <td>15</td>\n",
       "      <td>11</td>\n",
       "      <td>94720</td>\n",
       "      <td>1</td>\n",
       "      <td>1.0</td>\n",
       "      <td>1</td>\n",
       "      <td>0</td>\n",
       "      <td>0</td>\n",
       "      <td>0</td>\n",
       "      <td>0</td>\n",
       "      <td>0</td>\n",
       "      <td>0</td>\n",
       "      <td>California</td>\n",
       "      <td>Alameda</td>\n",
       "    </tr>\n",
       "    <tr>\n",
       "      <th>3</th>\n",
       "      <td>4</td>\n",
       "      <td>35</td>\n",
       "      <td>9</td>\n",
       "      <td>100</td>\n",
       "      <td>94112</td>\n",
       "      <td>1</td>\n",
       "      <td>2.7</td>\n",
       "      <td>2</td>\n",
       "      <td>0</td>\n",
       "      <td>0</td>\n",
       "      <td>0</td>\n",
       "      <td>0</td>\n",
       "      <td>0</td>\n",
       "      <td>0</td>\n",
       "      <td>California</td>\n",
       "      <td>City and County of San Francisco</td>\n",
       "    </tr>\n",
       "    <tr>\n",
       "      <th>4</th>\n",
       "      <td>5</td>\n",
       "      <td>35</td>\n",
       "      <td>8</td>\n",
       "      <td>45</td>\n",
       "      <td>91330</td>\n",
       "      <td>4</td>\n",
       "      <td>1.0</td>\n",
       "      <td>2</td>\n",
       "      <td>0</td>\n",
       "      <td>0</td>\n",
       "      <td>0</td>\n",
       "      <td>0</td>\n",
       "      <td>0</td>\n",
       "      <td>1</td>\n",
       "      <td>California</td>\n",
       "      <td>Los Angeles</td>\n",
       "    </tr>\n",
       "  </tbody>\n",
       "</table>\n",
       "</div>"
      ],
      "text/plain": [
       "   ID  Age  Experience  Income  ZIPCode  Family  CCAvg  Education  Mortgage  \\\n",
       "0   1   25           1      49    91107       4    1.6          1         0   \n",
       "1   2   45          19      34    90089       3    1.5          1         0   \n",
       "2   3   39          15      11    94720       1    1.0          1         0   \n",
       "3   4   35           9     100    94112       1    2.7          2         0   \n",
       "4   5   35           8      45    91330       4    1.0          2         0   \n",
       "\n",
       "   Personal_Loan  Securities_Account  CD_Account  Online  CreditCard  \\\n",
       "0              0                   1           0       0           0   \n",
       "1              0                   1           0       0           0   \n",
       "2              0                   0           0       0           0   \n",
       "3              0                   0           0       0           0   \n",
       "4              0                   0           0       0           1   \n",
       "\n",
       "        state                            county  \n",
       "0  California                       Los Angeles  \n",
       "1  California                       Los Angeles  \n",
       "2  California                           Alameda  \n",
       "3  California  City and County of San Francisco  \n",
       "4  California                       Los Angeles  "
      ]
     },
     "execution_count": 41,
     "metadata": {},
     "output_type": "execute_result"
    }
   ],
   "source": [
    "#Check dataset values\n",
    "lr_clean.head()"
   ]
  },
  {
   "cell_type": "code",
   "execution_count": 42,
   "metadata": {},
   "outputs": [
    {
     "data": {
      "text/plain": [
       "ID                    5000\n",
       "Age                     45\n",
       "Experience              47\n",
       "Income                 162\n",
       "ZIPCode                467\n",
       "Family                   4\n",
       "CCAvg                  108\n",
       "Education                3\n",
       "Mortgage               347\n",
       "Personal_Loan            2\n",
       "Securities_Account       2\n",
       "CD_Account               2\n",
       "Online                   2\n",
       "CreditCard               2\n",
       "state                    1\n",
       "county                  38\n",
       "dtype: int64"
      ]
     },
     "execution_count": 42,
     "metadata": {},
     "output_type": "execute_result"
    }
   ],
   "source": [
    "#check dataset unique values\n",
    "lr_clean.nunique()"
   ]
  },
  {
   "cell_type": "code",
   "execution_count": 43,
   "metadata": {},
   "outputs": [],
   "source": [
    "#remove non-informative variable\n",
    "lr_clean.drop(['ID','state','ZIPCode'],axis=1,inplace=True)"
   ]
  },
  {
   "cell_type": "code",
   "execution_count": 44,
   "metadata": {},
   "outputs": [
    {
     "name": "stdout",
     "output_type": "stream",
     "text": [
      "<class 'pandas.core.frame.DataFrame'>\n",
      "RangeIndex: 5000 entries, 0 to 4999\n",
      "Data columns (total 13 columns):\n",
      " #   Column              Non-Null Count  Dtype  \n",
      "---  ------              --------------  -----  \n",
      " 0   Age                 5000 non-null   int64  \n",
      " 1   Experience          5000 non-null   int64  \n",
      " 2   Income              5000 non-null   int64  \n",
      " 3   Family              5000 non-null   int64  \n",
      " 4   CCAvg               5000 non-null   float64\n",
      " 5   Education           5000 non-null   int64  \n",
      " 6   Mortgage            5000 non-null   int64  \n",
      " 7   Personal_Loan       5000 non-null   int64  \n",
      " 8   Securities_Account  5000 non-null   int64  \n",
      " 9   CD_Account          5000 non-null   int64  \n",
      " 10  Online              5000 non-null   int64  \n",
      " 11  CreditCard          5000 non-null   int64  \n",
      " 12  county              4959 non-null   object \n",
      "dtypes: float64(1), int64(11), object(1)\n",
      "memory usage: 507.9+ KB\n"
     ]
    }
   ],
   "source": [
    "#check that columns were dropped\n",
    "lr_clean.info()"
   ]
  },
  {
   "cell_type": "code",
   "execution_count": 45,
   "metadata": {},
   "outputs": [
    {
     "name": "stdout",
     "output_type": "stream",
     "text": [
      "<class 'pandas.core.frame.DataFrame'>\n",
      "RangeIndex: 5000 entries, 0 to 4999\n",
      "Data columns (total 13 columns):\n",
      " #   Column              Non-Null Count  Dtype   \n",
      "---  ------              --------------  -----   \n",
      " 0   Age                 5000 non-null   int64   \n",
      " 1   Experience          5000 non-null   int64   \n",
      " 2   Income              5000 non-null   int64   \n",
      " 3   Family              5000 non-null   category\n",
      " 4   CCAvg               5000 non-null   float64 \n",
      " 5   Education           5000 non-null   category\n",
      " 6   Mortgage            5000 non-null   int64   \n",
      " 7   Personal_Loan       5000 non-null   int64   \n",
      " 8   Securities_Account  5000 non-null   int64   \n",
      " 9   CD_Account          5000 non-null   int64   \n",
      " 10  Online              5000 non-null   int64   \n",
      " 11  CreditCard          5000 non-null   int64   \n",
      " 12  county              4959 non-null   category\n",
      "dtypes: category(3), float64(1), int64(9)\n",
      "memory usage: 407.2 KB\n"
     ]
    }
   ],
   "source": [
    "#Convert 3 columns to category dtype\n",
    "lr_clean_cat_cols=['Family','Education','county']\n",
    "for colname in lr_clean_cat_cols:\n",
    "    lr_clean[colname] = lr_clean[colname].astype('category')\n",
    "    \n",
    "lr_clean.info()"
   ]
  },
  {
   "cell_type": "code",
   "execution_count": 46,
   "metadata": {},
   "outputs": [],
   "source": [
    "#Replace the Power2 NaN values with the Median\n",
    "lr_clean['Income'] = lr_clean['Income'].fillna(lr_clean['Income'].quantile(.9995))"
   ]
  },
  {
   "cell_type": "code",
   "execution_count": null,
   "metadata": {},
   "outputs": [],
   "source": []
  },
  {
   "cell_type": "code",
   "execution_count": null,
   "metadata": {},
   "outputs": [],
   "source": []
  },
  {
   "cell_type": "code",
   "execution_count": null,
   "metadata": {},
   "outputs": [],
   "source": []
  },
  {
   "cell_type": "code",
   "execution_count": 47,
   "metadata": {},
   "outputs": [],
   "source": [
    "from sklearn.preprocessing import StandardScaler, MinMaxScaler\n",
    "\n",
    "#apply min-max transformation to Income data\n",
    "lr_clean['Income_scale'] = MinMaxScaler().fit_transform(lr_clean[['Income']])"
   ]
  },
  {
   "cell_type": "code",
   "execution_count": 48,
   "metadata": {},
   "outputs": [],
   "source": [
    "# Apply log transformation to mortgage and CCAVG data; check distribution of year_log\n",
    "lr_clean[\"Mortgage_log\"] = np.log(lr_clean[\"Mortgage\"] + 1) \n"
   ]
  },
  {
   "cell_type": "code",
   "execution_count": 49,
   "metadata": {},
   "outputs": [],
   "source": [
    "# Apply log transformation to mortgage and CCAVG data; check distribution of year_log\n",
    "lr_clean[\"CCAvg_log\"] = np.log(lr_clean[\"CCAvg\"] + 1) \n"
   ]
  },
  {
   "cell_type": "code",
   "execution_count": 50,
   "metadata": {},
   "outputs": [
    {
     "data": {
      "image/png": "[encoded data removed]",
      "text/plain": [
       "<Figure size 864x576 with 6 Axes>"
      ]
     },
     "metadata": {
      "needs_background": "light"
     },
     "output_type": "display_data"
    }
   ],
   "source": [
    "#Create histplots for numerical variables\n",
    "scale_cols = ['Income','Income_scale','Mortgage','Mortgage_log','CCAvg','CCAvg_log']\n",
    "plt.figure(figsize = (12,8))\n",
    "\n",
    "for i, variable in enumerate(scale_cols):\n",
    "    plt.subplot(2,3,i+1)\n",
    "    plt.hist(lr_clean[variable])\n",
    "    plt.tight_layout\n",
    "    plt.title(variable)\n",
    "    \n",
    "plt.show()"
   ]
  },
  {
   "cell_type": "code",
   "execution_count": 51,
   "metadata": {},
   "outputs": [],
   "source": [
    "lr_clean.drop(['Income','CCAvg','Mortgage'],axis=1,inplace=True)"
   ]
  },
  {
   "cell_type": "code",
   "execution_count": 52,
   "metadata": {},
   "outputs": [
    {
     "name": "stdout",
     "output_type": "stream",
     "text": [
      "<class 'pandas.core.frame.DataFrame'>\n",
      "RangeIndex: 5000 entries, 0 to 4999\n",
      "Data columns (total 13 columns):\n",
      " #   Column              Non-Null Count  Dtype   \n",
      "---  ------              --------------  -----   \n",
      " 0   Age                 5000 non-null   int64   \n",
      " 1   Experience          5000 non-null   int64   \n",
      " 2   Family              5000 non-null   category\n",
      " 3   Education           5000 non-null   category\n",
      " 4   Personal_Loan       5000 non-null   int64   \n",
      " 5   Securities_Account  5000 non-null   int64   \n",
      " 6   CD_Account          5000 non-null   int64   \n",
      " 7   Online              5000 non-null   int64   \n",
      " 8   CreditCard          5000 non-null   int64   \n",
      " 9   county              4959 non-null   category\n",
      " 10  Income_scale        5000 non-null   float64 \n",
      " 11  Mortgage_log        5000 non-null   float64 \n",
      " 12  CCAvg_log           5000 non-null   float64 \n",
      "dtypes: category(3), float64(3), int64(7)\n",
      "memory usage: 407.2 KB\n"
     ]
    }
   ],
   "source": [
    "lr_clean.info()"
   ]
  },
  {
   "cell_type": "code",
   "execution_count": 53,
   "metadata": {},
   "outputs": [],
   "source": [
    "# Split data frame into dependent variable (y) and Independent Variables(X)\n",
    "y = lr_clean[\"Personal_Loan\"]\n",
    "X = lr_clean.drop([\"Personal_Loan\"], axis=1)"
   ]
  },
  {
   "cell_type": "code",
   "execution_count": 54,
   "metadata": {},
   "outputs": [],
   "source": [
    "#Copy X\n",
    "X2=X.copy()"
   ]
  },
  {
   "cell_type": "code",
   "execution_count": 55,
   "metadata": {},
   "outputs": [
    {
     "data": {
      "text/html": [
       "<div>\n",
       "<style scoped>\n",
       "    .dataframe tbody tr th:only-of-type {\n",
       "        vertical-align: middle;\n",
       "    }\n",
       "\n",
       "    .dataframe tbody tr th {\n",
       "        vertical-align: top;\n",
       "    }\n",
       "\n",
       "    .dataframe thead th {\n",
       "        text-align: right;\n",
       "    }\n",
       "</style>\n",
       "<table border=\"1\" class=\"dataframe\">\n",
       "  <thead>\n",
       "    <tr style=\"text-align: right;\">\n",
       "      <th></th>\n",
       "      <th>Age</th>\n",
       "      <th>Experience</th>\n",
       "      <th>Securities_Account</th>\n",
       "      <th>CD_Account</th>\n",
       "      <th>Online</th>\n",
       "      <th>CreditCard</th>\n",
       "      <th>Income_scale</th>\n",
       "      <th>Mortgage_log</th>\n",
       "      <th>CCAvg_log</th>\n",
       "      <th>Family_2</th>\n",
       "      <th>Family_3</th>\n",
       "      <th>Family_4</th>\n",
       "      <th>Education_2</th>\n",
       "      <th>Education_3</th>\n",
       "      <th>county_Butte</th>\n",
       "      <th>county_City and County of San Francisco</th>\n",
       "      <th>county_Contra Costa</th>\n",
       "      <th>county_El Dorado</th>\n",
       "      <th>county_Fresno</th>\n",
       "      <th>county_Humboldt</th>\n",
       "      <th>county_Imperial</th>\n",
       "      <th>county_Kern</th>\n",
       "      <th>county_Lake</th>\n",
       "      <th>county_Los Angeles</th>\n",
       "      <th>county_Marin</th>\n",
       "      <th>county_Mendocino</th>\n",
       "      <th>county_Merced</th>\n",
       "      <th>county_Monterey</th>\n",
       "      <th>county_Napa</th>\n",
       "      <th>county_Orange</th>\n",
       "      <th>county_Placer</th>\n",
       "      <th>county_Riverside</th>\n",
       "      <th>county_Sacramento</th>\n",
       "      <th>county_San Benito</th>\n",
       "      <th>county_San Bernardino</th>\n",
       "      <th>county_San Diego</th>\n",
       "      <th>county_San Joaquin</th>\n",
       "      <th>county_San Luis Obispo</th>\n",
       "      <th>county_San Mateo</th>\n",
       "      <th>county_Santa Barbara</th>\n",
       "      <th>county_Santa Clara</th>\n",
       "      <th>county_Santa Cruz</th>\n",
       "      <th>county_Shasta</th>\n",
       "      <th>county_Siskiyou</th>\n",
       "      <th>county_Solano</th>\n",
       "      <th>county_Sonoma</th>\n",
       "      <th>county_Stanislaus</th>\n",
       "      <th>county_Trinity</th>\n",
       "      <th>county_Tuolumne</th>\n",
       "      <th>county_Ventura</th>\n",
       "      <th>county_Yolo</th>\n",
       "    </tr>\n",
       "  </thead>\n",
       "  <tbody>\n",
       "    <tr>\n",
       "      <th>0</th>\n",
       "      <td>25</td>\n",
       "      <td>1</td>\n",
       "      <td>1</td>\n",
       "      <td>0</td>\n",
       "      <td>0</td>\n",
       "      <td>0</td>\n",
       "      <td>0.189815</td>\n",
       "      <td>0.0</td>\n",
       "      <td>0.955511</td>\n",
       "      <td>0</td>\n",
       "      <td>0</td>\n",
       "      <td>1</td>\n",
       "      <td>0</td>\n",
       "      <td>0</td>\n",
       "      <td>0</td>\n",
       "      <td>0</td>\n",
       "      <td>0</td>\n",
       "      <td>0</td>\n",
       "      <td>0</td>\n",
       "      <td>0</td>\n",
       "      <td>0</td>\n",
       "      <td>0</td>\n",
       "      <td>0</td>\n",
       "      <td>1</td>\n",
       "      <td>0</td>\n",
       "      <td>0</td>\n",
       "      <td>0</td>\n",
       "      <td>0</td>\n",
       "      <td>0</td>\n",
       "      <td>0</td>\n",
       "      <td>0</td>\n",
       "      <td>0</td>\n",
       "      <td>0</td>\n",
       "      <td>0</td>\n",
       "      <td>0</td>\n",
       "      <td>0</td>\n",
       "      <td>0</td>\n",
       "      <td>0</td>\n",
       "      <td>0</td>\n",
       "      <td>0</td>\n",
       "      <td>0</td>\n",
       "      <td>0</td>\n",
       "      <td>0</td>\n",
       "      <td>0</td>\n",
       "      <td>0</td>\n",
       "      <td>0</td>\n",
       "      <td>0</td>\n",
       "      <td>0</td>\n",
       "      <td>0</td>\n",
       "      <td>0</td>\n",
       "      <td>0</td>\n",
       "    </tr>\n",
       "    <tr>\n",
       "      <th>1</th>\n",
       "      <td>45</td>\n",
       "      <td>19</td>\n",
       "      <td>1</td>\n",
       "      <td>0</td>\n",
       "      <td>0</td>\n",
       "      <td>0</td>\n",
       "      <td>0.120370</td>\n",
       "      <td>0.0</td>\n",
       "      <td>0.916291</td>\n",
       "      <td>0</td>\n",
       "      <td>1</td>\n",
       "      <td>0</td>\n",
       "      <td>0</td>\n",
       "      <td>0</td>\n",
       "      <td>0</td>\n",
       "      <td>0</td>\n",
       "      <td>0</td>\n",
       "      <td>0</td>\n",
       "      <td>0</td>\n",
       "      <td>0</td>\n",
       "      <td>0</td>\n",
       "      <td>0</td>\n",
       "      <td>0</td>\n",
       "      <td>1</td>\n",
       "      <td>0</td>\n",
       "      <td>0</td>\n",
       "      <td>0</td>\n",
       "      <td>0</td>\n",
       "      <td>0</td>\n",
       "      <td>0</td>\n",
       "      <td>0</td>\n",
       "      <td>0</td>\n",
       "      <td>0</td>\n",
       "      <td>0</td>\n",
       "      <td>0</td>\n",
       "      <td>0</td>\n",
       "      <td>0</td>\n",
       "      <td>0</td>\n",
       "      <td>0</td>\n",
       "      <td>0</td>\n",
       "      <td>0</td>\n",
       "      <td>0</td>\n",
       "      <td>0</td>\n",
       "      <td>0</td>\n",
       "      <td>0</td>\n",
       "      <td>0</td>\n",
       "      <td>0</td>\n",
       "      <td>0</td>\n",
       "      <td>0</td>\n",
       "      <td>0</td>\n",
       "      <td>0</td>\n",
       "    </tr>\n",
       "    <tr>\n",
       "      <th>2</th>\n",
       "      <td>39</td>\n",
       "      <td>15</td>\n",
       "      <td>0</td>\n",
       "      <td>0</td>\n",
       "      <td>0</td>\n",
       "      <td>0</td>\n",
       "      <td>0.013889</td>\n",
       "      <td>0.0</td>\n",
       "      <td>0.693147</td>\n",
       "      <td>0</td>\n",
       "      <td>0</td>\n",
       "      <td>0</td>\n",
       "      <td>0</td>\n",
       "      <td>0</td>\n",
       "      <td>0</td>\n",
       "      <td>0</td>\n",
       "      <td>0</td>\n",
       "      <td>0</td>\n",
       "      <td>0</td>\n",
       "      <td>0</td>\n",
       "      <td>0</td>\n",
       "      <td>0</td>\n",
       "      <td>0</td>\n",
       "      <td>0</td>\n",
       "      <td>0</td>\n",
       "      <td>0</td>\n",
       "      <td>0</td>\n",
       "      <td>0</td>\n",
       "      <td>0</td>\n",
       "      <td>0</td>\n",
       "      <td>0</td>\n",
       "      <td>0</td>\n",
       "      <td>0</td>\n",
       "      <td>0</td>\n",
       "      <td>0</td>\n",
       "      <td>0</td>\n",
       "      <td>0</td>\n",
       "      <td>0</td>\n",
       "      <td>0</td>\n",
       "      <td>0</td>\n",
       "      <td>0</td>\n",
       "      <td>0</td>\n",
       "      <td>0</td>\n",
       "      <td>0</td>\n",
       "      <td>0</td>\n",
       "      <td>0</td>\n",
       "      <td>0</td>\n",
       "      <td>0</td>\n",
       "      <td>0</td>\n",
       "      <td>0</td>\n",
       "      <td>0</td>\n",
       "    </tr>\n",
       "    <tr>\n",
       "      <th>3</th>\n",
       "      <td>35</td>\n",
       "      <td>9</td>\n",
       "      <td>0</td>\n",
       "      <td>0</td>\n",
       "      <td>0</td>\n",
       "      <td>0</td>\n",
       "      <td>0.425926</td>\n",
       "      <td>0.0</td>\n",
       "      <td>1.308333</td>\n",
       "      <td>0</td>\n",
       "      <td>0</td>\n",
       "      <td>0</td>\n",
       "      <td>1</td>\n",
       "      <td>0</td>\n",
       "      <td>0</td>\n",
       "      <td>1</td>\n",
       "      <td>0</td>\n",
       "      <td>0</td>\n",
       "      <td>0</td>\n",
       "      <td>0</td>\n",
       "      <td>0</td>\n",
       "      <td>0</td>\n",
       "      <td>0</td>\n",
       "      <td>0</td>\n",
       "      <td>0</td>\n",
       "      <td>0</td>\n",
       "      <td>0</td>\n",
       "      <td>0</td>\n",
       "      <td>0</td>\n",
       "      <td>0</td>\n",
       "      <td>0</td>\n",
       "      <td>0</td>\n",
       "      <td>0</td>\n",
       "      <td>0</td>\n",
       "      <td>0</td>\n",
       "      <td>0</td>\n",
       "      <td>0</td>\n",
       "      <td>0</td>\n",
       "      <td>0</td>\n",
       "      <td>0</td>\n",
       "      <td>0</td>\n",
       "      <td>0</td>\n",
       "      <td>0</td>\n",
       "      <td>0</td>\n",
       "      <td>0</td>\n",
       "      <td>0</td>\n",
       "      <td>0</td>\n",
       "      <td>0</td>\n",
       "      <td>0</td>\n",
       "      <td>0</td>\n",
       "      <td>0</td>\n",
       "    </tr>\n",
       "    <tr>\n",
       "      <th>4</th>\n",
       "      <td>35</td>\n",
       "      <td>8</td>\n",
       "      <td>0</td>\n",
       "      <td>0</td>\n",
       "      <td>0</td>\n",
       "      <td>1</td>\n",
       "      <td>0.171296</td>\n",
       "      <td>0.0</td>\n",
       "      <td>0.693147</td>\n",
       "      <td>0</td>\n",
       "      <td>0</td>\n",
       "      <td>1</td>\n",
       "      <td>1</td>\n",
       "      <td>0</td>\n",
       "      <td>0</td>\n",
       "      <td>0</td>\n",
       "      <td>0</td>\n",
       "      <td>0</td>\n",
       "      <td>0</td>\n",
       "      <td>0</td>\n",
       "      <td>0</td>\n",
       "      <td>0</td>\n",
       "      <td>0</td>\n",
       "      <td>1</td>\n",
       "      <td>0</td>\n",
       "      <td>0</td>\n",
       "      <td>0</td>\n",
       "      <td>0</td>\n",
       "      <td>0</td>\n",
       "      <td>0</td>\n",
       "      <td>0</td>\n",
       "      <td>0</td>\n",
       "      <td>0</td>\n",
       "      <td>0</td>\n",
       "      <td>0</td>\n",
       "      <td>0</td>\n",
       "      <td>0</td>\n",
       "      <td>0</td>\n",
       "      <td>0</td>\n",
       "      <td>0</td>\n",
       "      <td>0</td>\n",
       "      <td>0</td>\n",
       "      <td>0</td>\n",
       "      <td>0</td>\n",
       "      <td>0</td>\n",
       "      <td>0</td>\n",
       "      <td>0</td>\n",
       "      <td>0</td>\n",
       "      <td>0</td>\n",
       "      <td>0</td>\n",
       "      <td>0</td>\n",
       "    </tr>\n",
       "  </tbody>\n",
       "</table>\n",
       "</div>"
      ],
      "text/plain": [
       "   Age  Experience  Securities_Account  CD_Account  Online  CreditCard  \\\n",
       "0   25           1                   1           0       0           0   \n",
       "1   45          19                   1           0       0           0   \n",
       "2   39          15                   0           0       0           0   \n",
       "3   35           9                   0           0       0           0   \n",
       "4   35           8                   0           0       0           1   \n",
       "\n",
       "   Income_scale  Mortgage_log  CCAvg_log  Family_2  Family_3  Family_4  \\\n",
       "0      0.189815           0.0   0.955511         0         0         1   \n",
       "1      0.120370           0.0   0.916291         0         1         0   \n",
       "2      0.013889           0.0   0.693147         0         0         0   \n",
       "3      0.425926           0.0   1.308333         0         0         0   \n",
       "4      0.171296           0.0   0.693147         0         0         1   \n",
       "\n",
       "   Education_2  Education_3  county_Butte  \\\n",
       "0            0            0             0   \n",
       "1            0            0             0   \n",
       "2            0            0             0   \n",
       "3            1            0             0   \n",
       "4            1            0             0   \n",
       "\n",
       "   county_City and County of San Francisco  county_Contra Costa  \\\n",
       "0                                        0                    0   \n",
       "1                                        0                    0   \n",
       "2                                        0                    0   \n",
       "3                                        1                    0   \n",
       "4                                        0                    0   \n",
       "\n",
       "   county_El Dorado  county_Fresno  county_Humboldt  county_Imperial  \\\n",
       "0                 0              0                0                0   \n",
       "1                 0              0                0                0   \n",
       "2                 0              0                0                0   \n",
       "3                 0              0                0                0   \n",
       "4                 0              0                0                0   \n",
       "\n",
       "   county_Kern  county_Lake  county_Los Angeles  county_Marin  \\\n",
       "0            0            0                   1             0   \n",
       "1            0            0                   1             0   \n",
       "2            0            0                   0             0   \n",
       "3            0            0                   0             0   \n",
       "4            0            0                   1             0   \n",
       "\n",
       "   county_Mendocino  county_Merced  county_Monterey  county_Napa  \\\n",
       "0                 0              0                0            0   \n",
       "1                 0              0                0            0   \n",
       "2                 0              0                0            0   \n",
       "3                 0              0                0            0   \n",
       "4                 0              0                0            0   \n",
       "\n",
       "   county_Orange  county_Placer  county_Riverside  county_Sacramento  \\\n",
       "0              0              0                 0                  0   \n",
       "1              0              0                 0                  0   \n",
       "2              0              0                 0                  0   \n",
       "3              0              0                 0                  0   \n",
       "4              0              0                 0                  0   \n",
       "\n",
       "   county_San Benito  county_San Bernardino  county_San Diego  \\\n",
       "0                  0                      0                 0   \n",
       "1                  0                      0                 0   \n",
       "2                  0                      0                 0   \n",
       "3                  0                      0                 0   \n",
       "4                  0                      0                 0   \n",
       "\n",
       "   county_San Joaquin  county_San Luis Obispo  county_San Mateo  \\\n",
       "0                   0                       0                 0   \n",
       "1                   0                       0                 0   \n",
       "2                   0                       0                 0   \n",
       "3                   0                       0                 0   \n",
       "4                   0                       0                 0   \n",
       "\n",
       "   county_Santa Barbara  county_Santa Clara  county_Santa Cruz  county_Shasta  \\\n",
       "0                     0                   0                  0              0   \n",
       "1                     0                   0                  0              0   \n",
       "2                     0                   0                  0              0   \n",
       "3                     0                   0                  0              0   \n",
       "4                     0                   0                  0              0   \n",
       "\n",
       "   county_Siskiyou  county_Solano  county_Sonoma  county_Stanislaus  \\\n",
       "0                0              0              0                  0   \n",
       "1                0              0              0                  0   \n",
       "2                0              0              0                  0   \n",
       "3                0              0              0                  0   \n",
       "4                0              0              0                  0   \n",
       "\n",
       "   county_Trinity  county_Tuolumne  county_Ventura  county_Yolo  \n",
       "0               0                0               0            0  \n",
       "1               0                0               0            0  \n",
       "2               0                0               0            0  \n",
       "3               0                0               0            0  \n",
       "4               0                0               0            0  "
      ]
     },
     "execution_count": 55,
     "metadata": {},
     "output_type": "execute_result"
    }
   ],
   "source": [
    "X = pd.get_dummies(\n",
    "    X,\n",
    "    columns=X.select_dtypes(include=[\"category\",]).columns.tolist(),\n",
    "    drop_first=True,\n",
    ")\n",
    "\n",
    "X.head()"
   ]
  },
  {
   "cell_type": "code",
   "execution_count": 56,
   "metadata": {},
   "outputs": [],
   "source": [
    "# Splitting data in train and test sets\n",
    "X_train, X_test, y_train, y_test = train_test_split(\n",
    "    X, y, test_size=0.30, random_state=1\n",
    ")"
   ]
  },
  {
   "cell_type": "markdown",
   "metadata": {},
   "source": [
    "# Logistic Regression Model (using the code from \"IncomeGroupClassification\" Jupyter notebook)\n",
    "Metric: The problem statement asks whether a liability customer will buy a personal loan or not. \n",
    "1) CASE1:If the model is merely predicting the buying of the loan without concern as to whether the loan will be repayed, then the best measure of success is accurracy (of true positives and true negatives) \n",
    "2) CASE2:If the model is concerend with both predicting that buying of the loan and the repayment of the loan, then the recall (which identifies out of all positives, what fraction was correctly identified) is important.\n",
    "\n",
    "For this purpose of this project, I will evaluate both cases."
   ]
  },
  {
   "cell_type": "code",
   "execution_count": 59,
   "metadata": {},
   "outputs": [],
   "source": [
    "# defining a function to compute different metrics to check performance of a classification model built using sklearn\n",
    "\n",
    "def model_performance_classification_sklearn_with_threshold(model, predictors, target, threshold=0.5):\n",
    "    \"\"\"\n",
    "    Function to compute different metrics, based on the threshold specified, to check classification model performance\n",
    "\n",
    "    model: classifier\n",
    "    predictors: independent variables\n",
    "    target: dependent variable\n",
    "    threshold: threshold for classifying the observation as class 1\n",
    "    \"\"\"\n",
    "\n",
    "    # predicting using the independent variables\n",
    "    pred_prob = model.predict_proba(predictors)[:, 1]\n",
    "    pred_thres = pred_prob > threshold\n",
    "    pred = np.round(pred_thres)\n",
    "\n",
    "    acc = accuracy_score(target, pred)  # to compute Accuracy\n",
    "    recall = recall_score(target, pred)  # to compute Recall\n",
    "    precision = precision_score(target, pred)  # to compute Precision\n",
    "    f1 = f1_score(target, pred)  # to compute F1-score\n",
    "\n",
    "    # creating a dataframe of metrics\n",
    "    df_perf = pd.DataFrame(\n",
    "        {\n",
    "            \"Accuracy\": acc,\n",
    "            \"Recall\": recall,\n",
    "            \"Precision\": precision,\n",
    "            \"F1\": f1,\n",
    "        },\n",
    "        index=[0],\n",
    "    )\n",
    "\n",
    "    return df_perf"
   ]
  },
  {
   "cell_type": "code",
   "execution_count": 60,
   "metadata": {},
   "outputs": [],
   "source": [
    "# defining a function to plot the confusion_matrix of a classification model built using sklearn\n",
    "def confusion_matrix_sklearn_with_threshold(model, predictors, target, threshold=0.5):\n",
    "    \"\"\"\n",
    "    To plot the confusion_matrix, based on the threshold specified, with percentages\n",
    "\n",
    "    model: classifier\n",
    "    predictors: independent variables\n",
    "    target: dependent variable\n",
    "    threshold: threshold for classifying the observation as class 1\n",
    "    \"\"\"\n",
    "    pred_prob = model.predict_proba(predictors)[:, 1]\n",
    "    pred_thres = pred_prob > threshold\n",
    "    y_pred = np.round(pred_thres)\n",
    "\n",
    "    cm = confusion_matrix(target, y_pred)\n",
    "    labels = np.asarray(\n",
    "        [\n",
    "            [\"{0:0.0f}\".format(item) + \"\\n{0:.2%}\".format(item / cm.flatten().sum())]\n",
    "            for item in cm.flatten()\n",
    "        ]\n",
    "    ).reshape(2, 2)\n",
    "\n",
    "    plt.figure(figsize=(6, 4))\n",
    "    sns.heatmap(cm, annot=labels, fmt=\"\")\n",
    "    plt.ylabel(\"True label\")\n",
    "    plt.xlabel(\"Predicted label\")"
   ]
  },
  {
   "cell_type": "code",
   "execution_count": 61,
   "metadata": {},
   "outputs": [
    {
     "name": "stdout",
     "output_type": "stream",
     "text": [
      "Shape of Training set :  (3500, 51)\n",
      "Shape of test set :  (1500, 51)\n",
      "Percentage of classes in training set:\n",
      "0    0.905429\n",
      "1    0.094571\n",
      "Name: Personal_Loan, dtype: float64\n",
      "Percentage of classes in test set:\n",
      "0    0.900667\n",
      "1    0.099333\n",
      "Name: Personal_Loan, dtype: float64\n"
     ]
    }
   ],
   "source": [
    "print(\"Shape of Training set : \", X_train.shape)\n",
    "print(\"Shape of test set : \", X_test.shape)\n",
    "print(\"Percentage of classes in training set:\")\n",
    "print(y_train.value_counts(normalize=True))\n",
    "print(\"Percentage of classes in test set:\")\n",
    "print(y_test.value_counts(normalize=True))"
   ]
  },
  {
   "cell_type": "code",
   "execution_count": 62,
   "metadata": {},
   "outputs": [],
   "source": [
    "lg = LogisticRegression(solver=\"newton-cg\", random_state=1)\n",
    "model = lg.fit(X_train, y_train)"
   ]
  },
  {
   "cell_type": "code",
   "execution_count": 63,
   "metadata": {},
   "outputs": [
    {
     "data": {
      "image/png": "[encoded data removed]",
      "text/plain": [
       "<Figure size 432x288 with 2 Axes>"
      ]
     },
     "metadata": {
      "needs_background": "light"
     },
     "output_type": "display_data"
    }
   ],
   "source": [
    "# creating confusion matrix\n",
    "confusion_matrix_sklearn_with_threshold(lg, X_train, y_train)"
   ]
  },
  {
   "cell_type": "code",
   "execution_count": 64,
   "metadata": {},
   "outputs": [
    {
     "name": "stdout",
     "output_type": "stream",
     "text": [
      "Training performance:\n"
     ]
    },
    {
     "data": {
      "text/html": [
       "<div>\n",
       "<style scoped>\n",
       "    .dataframe tbody tr th:only-of-type {\n",
       "        vertical-align: middle;\n",
       "    }\n",
       "\n",
       "    .dataframe tbody tr th {\n",
       "        vertical-align: top;\n",
       "    }\n",
       "\n",
       "    .dataframe thead th {\n",
       "        text-align: right;\n",
       "    }\n",
       "</style>\n",
       "<table border=\"1\" class=\"dataframe\">\n",
       "  <thead>\n",
       "    <tr style=\"text-align: right;\">\n",
       "      <th></th>\n",
       "      <th>Accuracy</th>\n",
       "      <th>Recall</th>\n",
       "      <th>Precision</th>\n",
       "      <th>F1</th>\n",
       "    </tr>\n",
       "  </thead>\n",
       "  <tbody>\n",
       "    <tr>\n",
       "      <th>0</th>\n",
       "      <td>0.962286</td>\n",
       "      <td>0.655589</td>\n",
       "      <td>0.923404</td>\n",
       "      <td>0.766784</td>\n",
       "    </tr>\n",
       "  </tbody>\n",
       "</table>\n",
       "</div>"
      ],
      "text/plain": [
       "   Accuracy    Recall  Precision        F1\n",
       "0  0.962286  0.655589   0.923404  0.766784"
      ]
     },
     "execution_count": 64,
     "metadata": {},
     "output_type": "execute_result"
    }
   ],
   "source": [
    "log_reg_model_train_perf = model_performance_classification_sklearn_with_threshold(\n",
    "    lg, X_train, y_train\n",
    ")\n",
    "\n",
    "print(\"Training performance:\")\n",
    "log_reg_model_train_perf"
   ]
  },
  {
   "cell_type": "code",
   "execution_count": 65,
   "metadata": {},
   "outputs": [
    {
     "data": {
      "image/png": "[encoded data removed]",
      "text/plain": [
       "<Figure size 432x288 with 2 Axes>"
      ]
     },
     "metadata": {
      "needs_background": "light"
     },
     "output_type": "display_data"
    }
   ],
   "source": [
    "# creating confusion matrix\n",
    "confusion_matrix_sklearn_with_threshold(lg, X_test, y_test)"
   ]
  },
  {
   "cell_type": "code",
   "execution_count": 66,
   "metadata": {},
   "outputs": [
    {
     "name": "stdout",
     "output_type": "stream",
     "text": [
      "Test set performance:\n"
     ]
    },
    {
     "data": {
      "text/html": [
       "<div>\n",
       "<style scoped>\n",
       "    .dataframe tbody tr th:only-of-type {\n",
       "        vertical-align: middle;\n",
       "    }\n",
       "\n",
       "    .dataframe tbody tr th {\n",
       "        vertical-align: top;\n",
       "    }\n",
       "\n",
       "    .dataframe thead th {\n",
       "        text-align: right;\n",
       "    }\n",
       "</style>\n",
       "<table border=\"1\" class=\"dataframe\">\n",
       "  <thead>\n",
       "    <tr style=\"text-align: right;\">\n",
       "      <th></th>\n",
       "      <th>Accuracy</th>\n",
       "      <th>Recall</th>\n",
       "      <th>Precision</th>\n",
       "      <th>F1</th>\n",
       "    </tr>\n",
       "  </thead>\n",
       "  <tbody>\n",
       "    <tr>\n",
       "      <th>0</th>\n",
       "      <td>0.948</td>\n",
       "      <td>0.52349</td>\n",
       "      <td>0.917647</td>\n",
       "      <td>0.666667</td>\n",
       "    </tr>\n",
       "  </tbody>\n",
       "</table>\n",
       "</div>"
      ],
      "text/plain": [
       "   Accuracy   Recall  Precision        F1\n",
       "0     0.948  0.52349   0.917647  0.666667"
      ]
     },
     "execution_count": 66,
     "metadata": {},
     "output_type": "execute_result"
    }
   ],
   "source": [
    "\n",
    "log_reg_model_test_perf = model_performance_classification_sklearn_with_threshold(\n",
    "    lg, X_test, y_test\n",
    ")\n",
    "\n",
    "print(\"Test set performance:\")\n",
    "log_reg_model_test_perf"
   ]
  },
  {
   "cell_type": "markdown",
   "metadata": {},
   "source": [
    "### Observations\n",
    "- CASE1: Accuracy for loan buying prediction: Accuracy is high;model performs well\n",
    "- CASE2: Recall is poor; model did not perform well.\n",
    "\n",
    "Next step: Use the ROC curve and AUC score to determine optimal threshold value for model."
   ]
  },
  {
   "cell_type": "code",
   "execution_count": 67,
   "metadata": {},
   "outputs": [
    {
     "data": {
      "image/png": "[encoded data removed]",
      "text/plain": [
       "<Figure size 504x360 with 1 Axes>"
      ]
     },
     "metadata": {
      "needs_background": "light"
     },
     "output_type": "display_data"
    }
   ],
   "source": [
    "# Find the roc auc score for training data\n",
    "logit_roc_auc_train = roc_auc_score(\n",
    "    y_train, lg.predict_proba(X_train)[:, 1]\n",
    ")  # The indexing represents predicted probabilities for class 1\n",
    "# Find fpr, tpr and threshold values\n",
    "fpr, tpr, thresholds = roc_curve(y_train, lg.predict_proba(X_train)[:, 1])\n",
    "plt.figure(figsize=(7, 5))\n",
    "# Plot roc curve\n",
    "plt.plot(fpr, tpr, label=\"Logistic Regression (area = %0.2f)\" % logit_roc_auc_train)\n",
    "plt.plot([0, 1], [0, 1], \"r--\")\n",
    "plt.xlim([0.0, 1.0])\n",
    "plt.ylim([0.0, 1.05])\n",
    "plt.xlabel(\"False Positive Rate\")\n",
    "plt.ylabel(\"True Positive Rate\")\n",
    "plt.title(\"Receiver operating characteristic\")\n",
    "plt.legend(loc=\"lower right\")\n",
    "plt.show()"
   ]
  },
  {
   "cell_type": "code",
   "execution_count": 68,
   "metadata": {},
   "outputs": [
    {
     "data": {
      "image/png": "[encoded data removed]",
      "text/plain": [
       "<Figure size 504x360 with 1 Axes>"
      ]
     },
     "metadata": {
      "needs_background": "light"
     },
     "output_type": "display_data"
    }
   ],
   "source": [
    "# Find the roc auc score for test data\n",
    "logit_roc_auc_test = roc_auc_score(\n",
    "    y_test, lg.predict_proba(X_test)[:, 1]\n",
    ")  # The indexing represents predicted probabilities for class 1\n",
    "# Find fpr, tpr and threshold values\n",
    "fpr, tpr, thresholds = roc_curve(y_test, lg.predict_proba(X_test)[:, 1])\n",
    "plt.figure(figsize=(7, 5))\n",
    "# Plot roc curve\n",
    "plt.plot(fpr, tpr, label=\"Logistic Regression (area = %0.2f)\" % logit_roc_auc_test)\n",
    "plt.plot([0, 1], [0, 1], \"r--\")\n",
    "plt.xlim([0.0, 1.0])\n",
    "plt.ylim([0.0, 1.05])\n",
    "plt.xlabel(\"False Positive Rate\")\n",
    "plt.ylabel(\"True Positive Rate\")\n",
    "plt.title(\"Receiver operating characteristic\")\n",
    "plt.legend(loc=\"lower right\")\n",
    "plt.show()"
   ]
  },
  {
   "cell_type": "code",
   "execution_count": 69,
   "metadata": {},
   "outputs": [
    {
     "name": "stdout",
     "output_type": "stream",
     "text": [
      "0.16235960509703373\n"
     ]
    }
   ],
   "source": [
    "# Optimal threshold as per AUC-ROC curve\n",
    "# The optimal cut off would be where tpr is high and fpr is low\n",
    "# roc_curve returns the fpr, tpr and threshold values which takes the original data and predicted probabilities for the class 1.\n",
    "fpr, tpr, thresholds = roc_curve(\n",
    "    y_train, lg.predict_proba(X_train)[:, 1]\n",
    ")  # The indexing represents predicted probabilities for class 1\n",
    "\n",
    "optimal_idx = np.argmax(\n",
    "    tpr - fpr\n",
    ")  # Finds the index that contains the max difference between tpr and fpr\n",
    "optimal_threshold_auc_roc = thresholds[\n",
    "    optimal_idx\n",
    "]  # stores the optimal threshold value\n",
    "print(optimal_threshold_auc_roc)"
   ]
  },
  {
   "cell_type": "markdown",
   "metadata": {},
   "source": [
    "### Optimal threshold is ~0.16"
   ]
  },
  {
   "cell_type": "code",
   "execution_count": 70,
   "metadata": {},
   "outputs": [
    {
     "data": {
      "image/png": "[encoded data removed]",
      "text/plain": [
       "<Figure size 432x288 with 2 Axes>"
      ]
     },
     "metadata": {
      "needs_background": "light"
     },
     "output_type": "display_data"
    }
   ],
   "source": [
    "# creating confusion matrix for training data\n",
    "confusion_matrix_sklearn_with_threshold(\n",
    "    lg, X_train, y_train, threshold=optimal_threshold_auc_roc\n",
    ")"
   ]
  },
  {
   "cell_type": "code",
   "execution_count": 71,
   "metadata": {},
   "outputs": [
    {
     "name": "stdout",
     "output_type": "stream",
     "text": [
      "Training performance:\n"
     ]
    },
    {
     "data": {
      "text/html": [
       "<div>\n",
       "<style scoped>\n",
       "    .dataframe tbody tr th:only-of-type {\n",
       "        vertical-align: middle;\n",
       "    }\n",
       "\n",
       "    .dataframe tbody tr th {\n",
       "        vertical-align: top;\n",
       "    }\n",
       "\n",
       "    .dataframe thead th {\n",
       "        text-align: right;\n",
       "    }\n",
       "</style>\n",
       "<table border=\"1\" class=\"dataframe\">\n",
       "  <thead>\n",
       "    <tr style=\"text-align: right;\">\n",
       "      <th></th>\n",
       "      <th>Accuracy</th>\n",
       "      <th>Recall</th>\n",
       "      <th>Precision</th>\n",
       "      <th>F1</th>\n",
       "    </tr>\n",
       "  </thead>\n",
       "  <tbody>\n",
       "    <tr>\n",
       "      <th>0</th>\n",
       "      <td>0.933714</td>\n",
       "      <td>0.885196</td>\n",
       "      <td>0.601643</td>\n",
       "      <td>0.716381</td>\n",
       "    </tr>\n",
       "  </tbody>\n",
       "</table>\n",
       "</div>"
      ],
      "text/plain": [
       "   Accuracy    Recall  Precision        F1\n",
       "0  0.933714  0.885196   0.601643  0.716381"
      ]
     },
     "execution_count": 71,
     "metadata": {},
     "output_type": "execute_result"
    }
   ],
   "source": [
    "# checking model performance for this model\n",
    "log_reg_model_train_perf_threshold_auc_roc = model_performance_classification_sklearn_with_threshold(\n",
    "    lg, X_train, y_train, threshold=optimal_threshold_auc_roc\n",
    ")\n",
    "print(\"Training performance:\")\n",
    "log_reg_model_train_perf_threshold_auc_roc"
   ]
  },
  {
   "cell_type": "code",
   "execution_count": 72,
   "metadata": {},
   "outputs": [
    {
     "data": {
      "image/png": "[encoded data removed]",
      "text/plain": [
       "<Figure size 432x288 with 2 Axes>"
      ]
     },
     "metadata": {
      "needs_background": "light"
     },
     "output_type": "display_data"
    }
   ],
   "source": [
    "# creating confusion matrix\n",
    "confusion_matrix_sklearn_with_threshold(\n",
    "    lg, X_test, y_test, threshold=optimal_threshold_auc_roc\n",
    ")"
   ]
  },
  {
   "cell_type": "code",
   "execution_count": 73,
   "metadata": {},
   "outputs": [
    {
     "name": "stdout",
     "output_type": "stream",
     "text": [
      "Test set performance:\n"
     ]
    },
    {
     "data": {
      "text/html": [
       "<div>\n",
       "<style scoped>\n",
       "    .dataframe tbody tr th:only-of-type {\n",
       "        vertical-align: middle;\n",
       "    }\n",
       "\n",
       "    .dataframe tbody tr th {\n",
       "        vertical-align: top;\n",
       "    }\n",
       "\n",
       "    .dataframe thead th {\n",
       "        text-align: right;\n",
       "    }\n",
       "</style>\n",
       "<table border=\"1\" class=\"dataframe\">\n",
       "  <thead>\n",
       "    <tr style=\"text-align: right;\">\n",
       "      <th></th>\n",
       "      <th>Accuracy</th>\n",
       "      <th>Recall</th>\n",
       "      <th>Precision</th>\n",
       "      <th>F1</th>\n",
       "    </tr>\n",
       "  </thead>\n",
       "  <tbody>\n",
       "    <tr>\n",
       "      <th>0</th>\n",
       "      <td>0.926</td>\n",
       "      <td>0.838926</td>\n",
       "      <td>0.589623</td>\n",
       "      <td>0.692521</td>\n",
       "    </tr>\n",
       "  </tbody>\n",
       "</table>\n",
       "</div>"
      ],
      "text/plain": [
       "   Accuracy    Recall  Precision        F1\n",
       "0     0.926  0.838926   0.589623  0.692521"
      ]
     },
     "execution_count": 73,
     "metadata": {},
     "output_type": "execute_result"
    }
   ],
   "source": [
    "# checking model performance for this model\n",
    "log_reg_model_test_perf_threshold_auc_roc = model_performance_classification_sklearn_with_threshold(\n",
    "    lg, X_test, y_test, threshold=optimal_threshold_auc_roc\n",
    ")\n",
    "print(\"Test set performance:\")\n",
    "log_reg_model_test_perf_threshold_auc_roc"
   ]
  },
  {
   "cell_type": "markdown",
   "metadata": {},
   "source": [
    "# Observations\n",
    "- Use of Optimal Threshold decreases the Accuracy (CASE1) of  the model slightly but raises the recall (CASE2) significantly. Therefore, model improvement is improved. \n",
    "\n",
    "Next step: Explore the use of the Precion - Recall curve to determine if a better threshold exsts for the model."
   ]
  },
  {
   "cell_type": "code",
   "execution_count": 75,
   "metadata": {},
   "outputs": [
    {
     "data": {
      "image/png": "[encoded data removed]",
      "text/plain": [
       "<Figure size 720x504 with 1 Axes>"
      ]
     },
     "metadata": {
      "needs_background": "light"
     },
     "output_type": "display_data"
    }
   ],
   "source": [
    "# Find the predicted probabilities for class 1\n",
    "y_scores = lg.predict_proba(X_train)[:, 1]\n",
    "# Find fpr, tpr and threshold values\n",
    "prec, rec, tre = precision_recall_curve(y_train, y_scores,)\n",
    "\n",
    "\n",
    "def plot_prec_recall_vs_tresh(precisions, recalls, thresholds):\n",
    "    plt.plot(thresholds, precisions[:-1], \"b--\", label=\"precision\")\n",
    "    plt.plot(thresholds, recalls[:-1], \"g--\", label=\"recall\")\n",
    "    plt.xlabel(\"Threshold\")\n",
    "    plt.legend(loc=\"upper left\")\n",
    "    plt.ylim([0, 1])\n",
    "\n",
    "\n",
    "plt.figure(figsize=(10, 7))\n",
    "# Plot recall precision curve\n",
    "plot_prec_recall_vs_tresh(prec, rec, tre)\n",
    "plt.show()"
   ]
  },
  {
   "cell_type": "markdown",
   "metadata": {},
   "source": [
    "### Observations\n",
    "Precision-Recall intersection is ~0.3; therefore, test an optimal threshhold of 0.3."
   ]
  },
  {
   "cell_type": "code",
   "execution_count": 76,
   "metadata": {},
   "outputs": [],
   "source": [
    "# setting the threshold\n",
    "optimal_threshold_curve = 0.3"
   ]
  },
  {
   "cell_type": "code",
   "execution_count": 77,
   "metadata": {},
   "outputs": [
    {
     "data": {
      "image/png": "[encoded data removed]",
      "text/plain": [
       "<Figure size 432x288 with 2 Axes>"
      ]
     },
     "metadata": {
      "needs_background": "light"
     },
     "output_type": "display_data"
    }
   ],
   "source": [
    "# creating confusion matrix\n",
    "confusion_matrix_sklearn_with_threshold(\n",
    "    lg, X_train, y_train, threshold=optimal_threshold_curve\n",
    ")"
   ]
  },
  {
   "cell_type": "code",
   "execution_count": 78,
   "metadata": {},
   "outputs": [
    {
     "name": "stdout",
     "output_type": "stream",
     "text": [
      "Training performance:\n"
     ]
    },
    {
     "data": {
      "text/html": [
       "<div>\n",
       "<style scoped>\n",
       "    .dataframe tbody tr th:only-of-type {\n",
       "        vertical-align: middle;\n",
       "    }\n",
       "\n",
       "    .dataframe tbody tr th {\n",
       "        vertical-align: top;\n",
       "    }\n",
       "\n",
       "    .dataframe thead th {\n",
       "        text-align: right;\n",
       "    }\n",
       "</style>\n",
       "<table border=\"1\" class=\"dataframe\">\n",
       "  <thead>\n",
       "    <tr style=\"text-align: right;\">\n",
       "      <th></th>\n",
       "      <th>Accuracy</th>\n",
       "      <th>Recall</th>\n",
       "      <th>Precision</th>\n",
       "      <th>F1</th>\n",
       "    </tr>\n",
       "  </thead>\n",
       "  <tbody>\n",
       "    <tr>\n",
       "      <th>0</th>\n",
       "      <td>0.960857</td>\n",
       "      <td>0.773414</td>\n",
       "      <td>0.805031</td>\n",
       "      <td>0.788906</td>\n",
       "    </tr>\n",
       "  </tbody>\n",
       "</table>\n",
       "</div>"
      ],
      "text/plain": [
       "   Accuracy    Recall  Precision        F1\n",
       "0  0.960857  0.773414   0.805031  0.788906"
      ]
     },
     "execution_count": 78,
     "metadata": {},
     "output_type": "execute_result"
    }
   ],
   "source": [
    "log_reg_model_train_perf_threshold_curve = model_performance_classification_sklearn_with_threshold(\n",
    "    lg, X_train, y_train, threshold=optimal_threshold_curve\n",
    ")\n",
    "print(\"Training performance:\")\n",
    "log_reg_model_train_perf_threshold_curve"
   ]
  },
  {
   "cell_type": "code",
   "execution_count": 79,
   "metadata": {},
   "outputs": [
    {
     "data": {
      "image/png": "[encoded data removed]",
      "text/plain": [
       "<Figure size 432x288 with 2 Axes>"
      ]
     },
     "metadata": {
      "needs_background": "light"
     },
     "output_type": "display_data"
    }
   ],
   "source": [
    "# creating confusion matrix\n",
    "confusion_matrix_sklearn_with_threshold(\n",
    "    lg, X_test, y_test, threshold=optimal_threshold_curve\n",
    ")"
   ]
  },
  {
   "cell_type": "code",
   "execution_count": 80,
   "metadata": {},
   "outputs": [
    {
     "name": "stdout",
     "output_type": "stream",
     "text": [
      "Test set performance:\n"
     ]
    },
    {
     "data": {
      "text/html": [
       "<div>\n",
       "<style scoped>\n",
       "    .dataframe tbody tr th:only-of-type {\n",
       "        vertical-align: middle;\n",
       "    }\n",
       "\n",
       "    .dataframe tbody tr th {\n",
       "        vertical-align: top;\n",
       "    }\n",
       "\n",
       "    .dataframe thead th {\n",
       "        text-align: right;\n",
       "    }\n",
       "</style>\n",
       "<table border=\"1\" class=\"dataframe\">\n",
       "  <thead>\n",
       "    <tr style=\"text-align: right;\">\n",
       "      <th></th>\n",
       "      <th>Accuracy</th>\n",
       "      <th>Recall</th>\n",
       "      <th>Precision</th>\n",
       "      <th>F1</th>\n",
       "    </tr>\n",
       "  </thead>\n",
       "  <tbody>\n",
       "    <tr>\n",
       "      <th>0</th>\n",
       "      <td>0.954667</td>\n",
       "      <td>0.718121</td>\n",
       "      <td>0.804511</td>\n",
       "      <td>0.758865</td>\n",
       "    </tr>\n",
       "  </tbody>\n",
       "</table>\n",
       "</div>"
      ],
      "text/plain": [
       "   Accuracy    Recall  Precision        F1\n",
       "0  0.954667  0.718121   0.804511  0.758865"
      ]
     },
     "execution_count": 80,
     "metadata": {},
     "output_type": "execute_result"
    }
   ],
   "source": [
    "log_reg_model_test_perf_threshold_curve = model_performance_classification_sklearn_with_threshold(\n",
    "    lg, X_test, y_test, threshold=optimal_threshold_curve\n",
    ")\n",
    "print(\"Test set performance:\")\n",
    "log_reg_model_test_perf_threshold_curve"
   ]
  },
  {
   "cell_type": "raw",
   "metadata": {},
   "source": [
    "Model 1 (threshhold = .5)\n",
    "Accuracy\tRecall\tPrecision\tF1\n",
    "0\t0.948\t0.52349\t0.917647\t0.666667\n",
    "\n",
    "Model 2 (threshold = 0.16)\n",
    "\tAccuracy\tRecall\tPrecision\tF1\n",
    "0\t0.926\t0.838926\t0.589623\t0.692521\n",
    "\n",
    "Model 3 (threshold = .3)\n",
    "\tAccuracy\tRecall\tPrecision\tF1\n",
    "0\t0.954667\t0.718121\t0.804511\t0.758865"
   ]
  },
  {
   "cell_type": "markdown",
   "metadata": {},
   "source": [
    "## Observations and Evaluation - Logistic regression\n",
    "Case1: In case 1 where accuracy is important (no concern over lone repayment) all three models have accuracy rates > 90% with best results when the model threshold is 0.3\n",
    "Case2: In case 2 where recall is important (and repayment of loan is important) the best model results are delivered with Model 2 (threshold is 0.16). \n",
    "\n",
    "A model that delivers a balance among accuracy, precision and recall is model 3."
   ]
  },
  {
   "cell_type": "code",
   "execution_count": 82,
   "metadata": {},
   "outputs": [
    {
     "name": "stdout",
     "output_type": "stream",
     "text": [
      "Test set performance comparison:\n"
     ]
    },
    {
     "data": {
      "text/html": [
       "<div>\n",
       "<style scoped>\n",
       "    .dataframe tbody tr th:only-of-type {\n",
       "        vertical-align: middle;\n",
       "    }\n",
       "\n",
       "    .dataframe tbody tr th {\n",
       "        vertical-align: top;\n",
       "    }\n",
       "\n",
       "    .dataframe thead th {\n",
       "        text-align: right;\n",
       "    }\n",
       "</style>\n",
       "<table border=\"1\" class=\"dataframe\">\n",
       "  <thead>\n",
       "    <tr style=\"text-align: right;\">\n",
       "      <th></th>\n",
       "      <th>Logistic Regression sklearn</th>\n",
       "      <th>Logistic Regression-0.16 Threshold</th>\n",
       "      <th>Logistic Regression-0.3 Threshold</th>\n",
       "    </tr>\n",
       "  </thead>\n",
       "  <tbody>\n",
       "    <tr>\n",
       "      <th>Accuracy</th>\n",
       "      <td>0.948000</td>\n",
       "      <td>0.926000</td>\n",
       "      <td>0.954667</td>\n",
       "    </tr>\n",
       "    <tr>\n",
       "      <th>Recall</th>\n",
       "      <td>0.523490</td>\n",
       "      <td>0.838926</td>\n",
       "      <td>0.718121</td>\n",
       "    </tr>\n",
       "    <tr>\n",
       "      <th>Precision</th>\n",
       "      <td>0.917647</td>\n",
       "      <td>0.589623</td>\n",
       "      <td>0.804511</td>\n",
       "    </tr>\n",
       "    <tr>\n",
       "      <th>F1</th>\n",
       "      <td>0.666667</td>\n",
       "      <td>0.692521</td>\n",
       "      <td>0.758865</td>\n",
       "    </tr>\n",
       "  </tbody>\n",
       "</table>\n",
       "</div>"
      ],
      "text/plain": [
       "           Logistic Regression sklearn  Logistic Regression-0.16 Threshold  \\\n",
       "Accuracy                      0.948000                            0.926000   \n",
       "Recall                        0.523490                            0.838926   \n",
       "Precision                     0.917647                            0.589623   \n",
       "F1                            0.666667                            0.692521   \n",
       "\n",
       "           Logistic Regression-0.3 Threshold  \n",
       "Accuracy                            0.954667  \n",
       "Recall                              0.718121  \n",
       "Precision                           0.804511  \n",
       "F1                                  0.758865  "
      ]
     },
     "execution_count": 82,
     "metadata": {},
     "output_type": "execute_result"
    }
   ],
   "source": [
    "# testing performance comparison\n",
    "\n",
    "models_test_comp_df = pd.concat(\n",
    "    [\n",
    "        log_reg_model_test_perf.T,\n",
    "        log_reg_model_test_perf_threshold_auc_roc.T,\n",
    "        log_reg_model_test_perf_threshold_curve.T,\n",
    "    ],\n",
    "    axis=1,\n",
    ")\n",
    "models_test_comp_df.columns = [\n",
    "    \"Logistic Regression sklearn\",\n",
    "    \"Logistic Regression-0.16 Threshold\",\n",
    "    \"Logistic Regression-0.3 Threshold\",\n",
    "]\n",
    "print(\"Test set performance comparison:\")\n",
    "models_test_comp_df"
   ]
  },
  {
   "cell_type": "markdown",
   "metadata": {},
   "source": [
    "# Decision Tree (Using code in Online Shoppers Purchase Case Study Jupyter Notebook)"
   ]
  }
 ],
 "metadata": {
  "kernelspec": {
   "display_name": "Python 3",
   "language": "python",
   "name": "python3"
  },
  "language_info": {
   "codemirror_mode": {
    "name": "ipython",
    "version": 3
   },
   "file_extension": ".py",
   "mimetype": "text/x-python",
   "name": "python",
   "nbconvert_exporter": "python",
   "pygments_lexer": "ipython3",
   "version": "3.8.5"
  }
 },
 "nbformat": 4,
 "nbformat_minor": 4
}
